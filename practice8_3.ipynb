{
 "cells": [
  {
   "cell_type": "markdown",
   "metadata": {},
   "source": [
    "# Урок 8\n",
    "\n",
    "## Дисперсионный анализ. Факторный анализ. Логистическая регрессия"
   ]
  },
  {
   "cell_type": "markdown",
   "metadata": {},
   "source": [
    "### Дисперсионный анализ\n",
    "\n",
    "__Дисперсионный анализ__ — метод в математической статистике, направленный на поиск зависимостей в экспериментальных данных путём исследования значимости различий в средних значениях. В дисперсионном анализе изучается влияние одного или нескольких факторов на зависимую переменную, причём факторы являются _номинативными_ (_категориальными_), а целевая переменная является _абсолютной_ (_количественной_).\n",
    "\n",
    "В __однофакторном дисперсионном анализе__ на одну переменную $Y$ влияет один фактор, наблюдаемый на $k$ _уровнях_, т.е. имеем $k$ выборок для переменной $Y$. Проверяется гипотеза $H_0$ о равенстве средних значений по каждой выборке:\n",
    "\n",
    "$$H_0: \\: \\overline{y_1} = \\dots = \\overline{y_k}.$$\n",
    "\n",
    "Наблюдаемые данные обозначим $y_{ij}$, где $i$ — индекс уровня ($i = 1, 2, \\dots, k$), $j$ — индекс наблюдения на $i$-м уровне ($j = 1, 2, \\dots, n_i$). Здесь $n_i$ - число наблюдений на $i$-м уровне. Таким образом, \n",
    "\n",
    "$$y_i = \\{ y_{i1}, \\dots, y_{i n_i} \\}$$\n",
    "\n",
    "для $i = 1, 2, \\dots, k$. Соответственно, $\\overline{y_i}$ - среднее значение на выборке $y_i$. Обозначим через $n$ общее число наблюдений:\n",
    "\n",
    "$$n = \\displaystyle\\sum_{j=1}^{k} n_i.$$\n",
    "\n",
    "Среднее от всей выборки:\n",
    "\n",
    "$$\\overline{y} = \\dfrac{1}{n} \\displaystyle\\sum_{i=1}^k \\displaystyle\\sum_{j=1}^{n_i} y_{ij}.$$\n",
    "\n",
    "Сумма квадратов отклонений наблюдений от общего среднего:\n",
    "\n",
    "$$S^2 = \\displaystyle\\sum_{i=1}^{k} \\displaystyle\\sum_{j=1}^{n_i} ({y}_{ij} - \\overline{y})^2.$$\n",
    "\n",
    "Эту сумму можно разбить на сумму квадратов отклонений средних групповых значений от общего среднего значения $\\overline{y}$:\n",
    "\n",
    "$$S_b^2 = \\displaystyle\\sum_{i=1}^k (\\overline{y}_i - \\overline{y})^2 n_i$$\n",
    "\n",
    "и остаточную сумму квадратов отклонений:\n",
    "\n",
    "$$S_{w}^{2} = \\displaystyle\\sum_{i=1}^k \\displaystyle\\sum_{j=1}^{n_i} (y_{ij} - \\overline{y}_i)^2.$$\n",
    "\n",
    "Для этих значений должно быть справедливо равенство\n",
    "\n",
    "$$S^2 = S_b^2 + S_{w}^2.$$\n",
    "\n",
    "По этим значениям можно вычислить соответствующие несмещённые оценки дисперсий:\n",
    "\n",
    "$$\\sigma^2 = \\dfrac{S^2}{n - 1}, \\: \\sigma_b^2 = \\dfrac{S_b^2}{k - 1}, \\: \\sigma_{w}^2 = \\dfrac{S_{w}^2}{n - k}.$$\n",
    "\n",
    "Для проверки гипотезы $H_0$ запишем статистику\n",
    "\n",
    "$$T = \\dfrac{\\sigma_b^2}{\\sigma_{w}^2}.$$\n",
    "\n",
    "В предположении верности гипотезы $H_0$ статистика $T$ имеет распределение Фишера с параметрами $k_1 = k - 1$, $k_2 = n - k$. Для выбранного уровня значимости $\\alpha$ можно рассчитать критическое значение $F_{crit}$, равное квантилю порядка $1 - \\alpha$ для распределения $F(k_1, k_2)$. Если $T > F_{crit}$, то гипотеза $H_0$ отвергается."
   ]
  },
  {
   "cell_type": "markdown",
   "metadata": {},
   "source": [
    "__Пример 1__\n",
    "\n",
    "Среди людей, проживающих в одном городе, выделены три группы по профессии: бухгалтеры, юристы, программисты. Имеются данные по зарплатам в этих трёх группах:\n",
    "```\n",
    "y1 = [70, 50, 65, 60, 75]\n",
    "y2 = [80, 75, 90, 70, 75, 65, 85, 100]\n",
    "y3 = [130, 100, 140, 150, 160, 170, 200]\n",
    "```\n",
    "Требуется проверить гипотезу у равенстве средней зарплаты по каждой группе. Для проверки этой гипотезы воспользуемся однофакторным дисперсионным анализом."
   ]
  },
  {
   "cell_type": "code",
   "execution_count": 2,
   "metadata": {},
   "outputs": [],
   "source": [
    "import numpy as np"
   ]
  },
  {
   "cell_type": "code",
   "execution_count": 4,
   "metadata": {},
   "outputs": [],
   "source": [
    "y1 = np.array([70, 50, 65, 60, 75], dtype=np.float64)\n",
    "y2 = np.array([80, 75, 90, 70, 75, 65, 85, 100], dtype=np.float64)\n",
    "y3 = np.array([130, 100, 140, 150, 160, 170, 200], dtype=np.float64)\n",
    "\n",
    "n1 = y1.shape[0]\n",
    "n2 = y2.shape[0]\n",
    "n3 = y3.shape[0]"
   ]
  },
  {
   "cell_type": "markdown",
   "metadata": {},
   "source": [
    "Выборочные средние по каждой группе:"
   ]
  },
  {
   "cell_type": "code",
   "execution_count": 5,
   "metadata": {
    "scrolled": true
   },
   "outputs": [
    {
     "data": {
      "text/plain": [
       "(64.0, 80.0, 150.0)"
      ]
     },
     "execution_count": 5,
     "metadata": {},
     "output_type": "execute_result"
    }
   ],
   "source": [
    "y1_mean = y1.mean()\n",
    "y2_mean = y2.mean()\n",
    "y3_mean = y3.mean()\n",
    "\n",
    "y1_mean, y2_mean, y3_mean"
   ]
  },
  {
   "cell_type": "markdown",
   "metadata": {},
   "source": [
    "Видно, что средние зарплаты разнятся. Проверим статистическую значимость этого отличия. \n",
    "\n",
    "Соберём все значения заработных плат в один массив:"
   ]
  },
  {
   "cell_type": "code",
   "execution_count": 6,
   "metadata": {},
   "outputs": [
    {
     "name": "stdout",
     "output_type": "stream",
     "text": [
      "[ 70.  50.  65.  60.  75.  80.  75.  90.  70.  75.  65.  85. 100. 130.\n",
      " 100. 140. 150. 160. 170. 200.]\n"
     ]
    }
   ],
   "source": [
    "y = np.concatenate([y1, y2, y3])\n",
    "\n",
    "print(y)"
   ]
  },
  {
   "cell_type": "code",
   "execution_count": 17,
   "metadata": {},
   "outputs": [
    {
     "data": {
      "text/plain": [
       "100.5"
      ]
     },
     "execution_count": 17,
     "metadata": {},
     "output_type": "execute_result"
    }
   ],
   "source": [
    "y_mean = y.mean()\n",
    "y_mean"
   ]
  },
  {
   "cell_type": "markdown",
   "metadata": {},
   "source": [
    "Найдём значения $S_b$ и $S_{w}$:"
   ]
  },
  {
   "cell_type": "code",
   "execution_count": 18,
   "metadata": {},
   "outputs": [
    {
     "data": {
      "text/plain": [
       "(27175.0, 7270.0)"
      ]
     },
     "execution_count": 18,
     "metadata": {},
     "output_type": "execute_result"
    }
   ],
   "source": [
    "S2_b = n1 * (y1_mean - y_mean) ** 2 + n2 * (y2_mean - y_mean) ** 2 + n3 * (y3_mean - y_mean) ** 2\n",
    "\n",
    "S2_w = ((y1 - y1_mean) ** 2).sum() + ((y2 - y2_mean) ** 2).sum() + ((y3 - y3_mean) ** 2).sum()\n",
    "\n",
    "S2_b, S2_w"
   ]
  },
  {
   "cell_type": "markdown",
   "metadata": {},
   "source": [
    "Проверим выполнение равенства $S^2 = S_b^2 + S_{w}^2:$"
   ]
  },
  {
   "cell_type": "code",
   "execution_count": 19,
   "metadata": {},
   "outputs": [
    {
     "data": {
      "text/plain": [
       "True"
      ]
     },
     "execution_count": 19,
     "metadata": {},
     "output_type": "execute_result"
    }
   ],
   "source": [
    "S2_b + S2_w == ((y - y_mean) ** 2).sum()"
   ]
  },
  {
   "cell_type": "markdown",
   "metadata": {},
   "source": [
    "Запишем оценки дисперсий:"
   ]
  },
  {
   "cell_type": "code",
   "execution_count": 20,
   "metadata": {},
   "outputs": [
    {
     "data": {
      "text/plain": [
       "(13587.5, 427.6470588235294)"
      ]
     },
     "execution_count": 20,
     "metadata": {},
     "output_type": "execute_result"
    }
   ],
   "source": [
    "k = 3\n",
    "n = n1 + n2 + n3\n",
    "\n",
    "k1 = k - 1\n",
    "k2 = n - k\n",
    "\n",
    "sigma2_b = S2_b / k1\n",
    "sigma2_w = S2_w / k2\n",
    "\n",
    "sigma2_b, sigma2_w"
   ]
  },
  {
   "cell_type": "markdown",
   "metadata": {},
   "source": [
    "Итак, значение статистики $T$:"
   ]
  },
  {
   "cell_type": "code",
   "execution_count": 21,
   "metadata": {},
   "outputs": [
    {
     "data": {
      "text/plain": [
       "31.77269601100413"
      ]
     },
     "execution_count": 21,
     "metadata": {},
     "output_type": "execute_result"
    }
   ],
   "source": [
    "T = sigma2_b / sigma2_w\n",
    "T"
   ]
  },
  {
   "cell_type": "markdown",
   "metadata": {},
   "source": [
    "Зафиксируем уровень значимости $\\alpha = 0.05$. Для него найдём критическое значение $F_{crit}$:"
   ]
  },
  {
   "cell_type": "code",
   "execution_count": 11,
   "metadata": {},
   "outputs": [],
   "source": [
    "from scipy import stats"
   ]
  },
  {
   "cell_type": "code",
   "execution_count": 22,
   "metadata": {},
   "outputs": [
    {
     "data": {
      "text/plain": [
       "3.5915305684750827"
      ]
     },
     "execution_count": 22,
     "metadata": {},
     "output_type": "execute_result"
    }
   ],
   "source": [
    "alpha = 0.05\n",
    "\n",
    "F_crit = stats.f.ppf(1 - alpha, k1, k2)\n",
    "F_crit"
   ]
  },
  {
   "cell_type": "code",
   "execution_count": 27,
   "metadata": {},
   "outputs": [
    {
     "data": {
      "text/plain": [
       "1.809130456775776e-06"
      ]
     },
     "execution_count": 27,
     "metadata": {},
     "output_type": "execute_result"
    }
   ],
   "source": [
    "p = 1 - stats.f.cdf(T, k1, k2)\n",
    "p"
   ]
  },
  {
   "cell_type": "markdown",
   "metadata": {},
   "source": [
    "Видим, что $T > F_{crit}$, поэтому заключаем, что отличие средних зарплат действительно является статистически значимым."
   ]
  },
  {
   "cell_type": "code",
   "execution_count": 7,
   "metadata": {},
   "outputs": [
    {
     "data": {
      "text/plain": [
       "F_onewayResult(statistic=31.77269601100413, pvalue=1.8091304567650962e-06)"
      ]
     },
     "execution_count": 7,
     "metadata": {},
     "output_type": "execute_result"
    }
   ],
   "source": [
    "from scipy.stats import f_oneway\n",
    "f_oneway(y1, y2, y3)"
   ]
  },
  {
   "cell_type": "markdown",
   "metadata": {},
   "source": [
    "В _однофакторном дисперсионном анализе_ исследуется влияние одной категориальной переменной $x$, имеющей $k$ уровней, на количественную переменную $y$. Проверяется нулевая гипотеза о том, что среднее значение переменной $y$ на всех уровнях фактора $x$ совпадает.\n",
    "\n",
    "В __двухфакторном дисперсионном анализе__ имеются два фактора $a$, $b$, каждый из которых является категориальным. Проверяются гипотезы о влиянии каждого фактора на значение переменной $y$. \n",
    "\n",
    "_Замечание_. Почему здесь нельзя просто использовать два однофакторных дисперсионных анализа? Потому что в таком случае мы не учитываем тот факт, что два фактора могут зависеть друг от друга.\n",
    "\n",
    "Если мы уверены, что два фактора независимы, то разницы нет. В противном случае применение двух однофакторных дисперсионных анализов будет менее точным, чем использование одного двухфакторного.    \n",
    "\n",
    "Рассмотрим схему двухфакторного дисперсионного анализа __с однократными наблюдениями__. При таком подходе для каждой пары уровней факторов $a$ и $b$ выполняется только одно измерение переменной $y$.\n",
    "\n",
    "Пусть фактор $a$ имеет $m$ уровней, а фактор $b$ имеет $k$ уровней. Тогда исходные данные можно представить в виде таблицы\n",
    "$$Y = \\left(\n",
    "\\begin{array}{ccc}\n",
    "y_{11} & \\dots & y_{1k} \\\\\n",
    "y_{21} & \\dots & y_{2k} \\\\\n",
    "\\vdots & \\ddots & \\vdots \\\\\n",
    "y_{m1} & \\dots & y_{mk}\n",
    "\\end{array}\n",
    "\\right)$$\n",
    "где $y_{ij}$ — наблюдение на $i$-м уровне фактора $a$ и $j$-м уровне фактора $b$.\n",
    "\n",
    "_Замечание_. В двухфакторном дисперсионном анализе _с многократными наблюдениями_ каждый $y_{ij}$ представлял бы собой какой-то массив из значений."
   ]
  },
  {
   "cell_type": "markdown",
   "metadata": {},
   "source": [
    "По каждому фактору проверяется нулевая гипотеза о равенстве средних значений на каждом уровне. Пусть \n",
    "* $Y_{i \\ast}$ — $i$-я строка, т.е. значения переменной $y$ на $i$-м уровне фактора $a$ и $k$ уровнях фактора $b$,\n",
    "* $Y_{\\ast j}$ — $j$-й столбец, т.е. значения переменной $y$ на $m$ уровнях фактора $a$ и $j$-м уровне фактора $b$.\n",
    "\n",
    "Нулевые гипотезы:\n",
    "$$H_{0a}: \\:\\: \\overline{Y_{1 \\ast}} = \\dots = \\overline{Y_{m \\ast}}, \\:\\:\n",
    "H_{0b}: \\:\\: \\overline{Y_{\\ast 1}} = \\dots = \\overline{Y_{\\ast k}}$$\n",
    "\n",
    "Для вычисления значений статистик нам вновь понадобятся оценки дисперсий. Они вычисляются похожим образом. Суммы квадратов отклонений:\n",
    "$$SS_a = k \\cdot \\displaystyle\\sum_{i=1}^m \\left( \\overline{Y_{i \\ast}} - \\overline{Y} \\right)^2, \\:\\:\n",
    "SS_b = m \\cdot \\displaystyle\\sum_{j=1}^k \\left( \\overline{Y_{\\ast j}} - \\overline{Y} \\right)^2, \\:\\:\n",
    "SS_w = \\displaystyle\\sum_{i=1}^m \\displaystyle\\sum_{j=1}^k \\left( y_{ij} - \\overline{Y_{i \\ast}} - \\overline{Y_{\\ast j}} + \\overline{Y} \\right)^2$$\n",
    "\n",
    "_Замечание_. Первая сумма — отклонения между уровнями фактора $a$, вторая — между уровнями фактора $b$, третья — внутригрупповые отклонения.\n",
    "\n",
    "Оценки дисперсий:\n",
    "$$\\sigma_a^2 = \\dfrac{SS_a}{m - 1}, \\:\\: \\sigma_b^2 = \\dfrac{SS_b}{k - 1}, \\:\\:\n",
    "\\sigma_w^2 = \\dfrac{SS_w}{(k - 1) (m - 1)}$$\n",
    "\n",
    "Напомним, что в двухфакторном дисперсионном анализе мы проверяем две гипотезы (отдельная гипотеза о влиянии каждого из факторов). Итак, статистика для гипотезы о влиянии фактора $a$:\n",
    "$$F_a = \\dfrac{\\sigma_a^2}{\\sigma_w^2}$$\n",
    "\n",
    "В предположении верности гипотезы $H_{0a}$ эта статистика имеет распределение Фишера с параметрами $k_{1a} = m - 1$, $k_{2a} = n - m$, где $n = m \\cdot k$ — общее число элементов в выборке. Далее, как обычно, строится критическая область (правосторонняя, поскольку распределение Фишера имеет один хвост), и проводится тест.\n",
    "\n",
    "Аналогично, для гипотезы о влиянии фактора $b$ статистика:\n",
    "$$F_b = \\dfrac{\\sigma_b^2}{\\sigma_w^2}$$\n",
    "\n",
    "Она также имеет распределение Фишера, теперь с параметрами $k_{1b} = k - 1$, $k_{2b} = n - k$."
   ]
  },
  {
   "cell_type": "markdown",
   "metadata": {},
   "source": [
    "### A/B тестирование\n",
    "\n",
    "__A/B тестирование__ (или _сплит-тестирование_) — маркетинговый метод, который используется для оценки эффективности веб-страниц и управления ими.\n",
    "\n",
    "При A/В тестировании сравнивают страницы `A` и `B`, имеющие разные элементы дизайна (например, цвета кнопки заказа товара). На каждую страницу случайным образом запускают 50% аудитории сайта и затем сравнивают, какая страница показывает наибольший процент конверсии.\n",
    "\n",
    "__Пример 2__\n",
    "\n",
    "Допустим, у нас есть интернет-магазин. Целевая страница этого магазина имеет _коэффициент конверсии_ 2% (т.е. в 2% случаев посещение страницы пользователем заканчивается совершением покупки). \n",
    "\n",
    "Специалист хочет увеличить эту цифру до 4%. Он предполагает, что изменение дизайна страницы повысит конверсию. К примеру, он думает, что следует изменить цвет кнопки покупки товара с нейтрального синего на агрессивный красный, и это сделает дизайн более ярким и приведет к повышению конверсии. \n",
    "\n",
    "Чтобы проверить, маркетолог создает новую версию веб-страницы `B`, которая отличается от оригинальной страницы `A` лишь тем, что цвет кнопки покупки товара не синий, а красный. Затем, используя инструменты сплит-тестирования, специалист случайным образом делит трафик между страницами `А` и `В` на две приблизительно равные части. При этом одна половина посетителей попадает на страницу `A`, а вторая — на `B`.\n",
    "\n",
    "За нулевую гипотезу здесь берётся предположение, что конверсия на странице `B` не отличается от конверсии на странице `A`. Соответственно, обратное утверждение берётся за альтернативную "
   ]
  },
  {
   "cell_type": "markdown",
   "metadata": {},
   "source": [
    "__Пример 3__\n",
    "\n",
    "Для проведения A/B-тестирования сайта интернет-магазина были получены следующие данные: страница A была посещена 2509 раз, из них 77 закончились совершением покупки, страница B была посещена 1465 раз, 60 из них закончились совершением покупки. Является ли значимым отличие конверсии на страницах A и B?"
   ]
  },
  {
   "cell_type": "markdown",
   "metadata": {},
   "source": [
    "Будем применять однофакторный дисперсионный анализ. Построим для каждой страницы выборку соответствующих ей меток совершения покупки (1, если покупка совершилась, 0 иначе)"
   ]
  },
  {
   "cell_type": "code",
   "execution_count": 2,
   "metadata": {},
   "outputs": [],
   "source": [
    "import numpy as np\n",
    "\n",
    "y1 = np.zeros(2509)\n",
    "y1[np.arange(77)] = 1\n",
    "\n",
    "y2 = np.zeros(1465)\n",
    "y2[np.arange(60)] = 1\n",
    "\n",
    "y = np.concatenate([y1, y2])"
   ]
  },
  {
   "cell_type": "code",
   "execution_count": 4,
   "metadata": {},
   "outputs": [],
   "source": [
    "n1 = y1.shape[0]\n",
    "n2 = y2.shape[0]\n",
    "n = n1 + n2"
   ]
  },
  {
   "cell_type": "code",
   "execution_count": 16,
   "metadata": {},
   "outputs": [
    {
     "data": {
      "text/plain": [
       "(0.03068951773614986, 0.040955631399317405, 0.03447408152994464)"
      ]
     },
     "execution_count": 16,
     "metadata": {},
     "output_type": "execute_result"
    }
   ],
   "source": [
    "y1_mean = y1.mean()\n",
    "y2_mean = y2.mean()\n",
    "y_mean = y.mean()\n",
    "\n",
    "y1_mean, y2_mean, y_mean"
   ]
  },
  {
   "cell_type": "code",
   "execution_count": 17,
   "metadata": {},
   "outputs": [
    {
     "data": {
      "text/plain": [
       "(0.0973526737321842, 132.1795692503574)"
      ]
     },
     "execution_count": 17,
     "metadata": {},
     "output_type": "execute_result"
    }
   ],
   "source": [
    "SS_b = n1 * (y1_mean - y_mean) ** 2 + n2 * (y2_mean - y_mean) ** 2\n",
    "SS_w = ((y1 - y1_mean) ** 2).sum() + ((y2 - y2_mean) ** 2).sum()\n",
    "\n",
    "SS_b, SS_w"
   ]
  },
  {
   "cell_type": "code",
   "execution_count": 18,
   "metadata": {},
   "outputs": [
    {
     "data": {
      "text/plain": [
       "(0.0973526737321842, 0.03335341136774095)"
      ]
     },
     "execution_count": 18,
     "metadata": {},
     "output_type": "execute_result"
    }
   ],
   "source": [
    "k = 2\n",
    "k1 = k - 1\n",
    "k2 = n - k\n",
    "\n",
    "sigma2_b = SS_b / k1\n",
    "sigma2_w = SS_w / k2\n",
    "\n",
    "sigma2_b, sigma2_w"
   ]
  },
  {
   "cell_type": "code",
   "execution_count": 19,
   "metadata": {},
   "outputs": [
    {
     "data": {
      "text/plain": [
       "2.9188220856575597"
      ]
     },
     "execution_count": 19,
     "metadata": {},
     "output_type": "execute_result"
    }
   ],
   "source": [
    "F = sigma2_b / sigma2_w\n",
    "F"
   ]
  },
  {
   "cell_type": "code",
   "execution_count": 21,
   "metadata": {},
   "outputs": [
    {
     "data": {
      "text/plain": [
       "3.8438063719720263"
      ]
     },
     "execution_count": 21,
     "metadata": {},
     "output_type": "execute_result"
    }
   ],
   "source": [
    "alpha = 0.05\n",
    "\n",
    "t = stats.f.ppf(1 - alpha, k1, k2)\n",
    "t"
   ]
  },
  {
   "cell_type": "markdown",
   "metadata": {},
   "source": [
    "Значение статистики F меньше t, не попадает в критическую область, следовательно, конверсия на страниах A и B не имеет значимого отличия"
   ]
  },
  {
   "cell_type": "markdown",
   "metadata": {},
   "source": [
    "### Факторный анализ\n",
    "\n",
    "__Факторный анализ__ — это способ приведения множества непосредственно наблюдаемых факторов $x_j$, $j = 1, \\dots, m$, к меньшему числу новых линейно независимых факторов $y_j$, $j = 1, \\dots, q$, $q < m$.\n",
    "\n",
    "Рассмотрим __метод главных компонент__. Этот метод заключается в вычислении собственных значений и собственных векторов для ковариационной матрицы:\n",
    "$$\\operatorname{cov} = \\left(\n",
    "\\begin{array}{cccc}\n",
    "\\sigma_1^2 & \\sigma_{12} & \\dots & \\sigma_{1m} \\\\\n",
    "\\sigma_{12} & \\sigma_2^2 & \\dots & \\sigma_{2m} \\\\\n",
    "\\vdots & \\vdots & \\ddots & \\vdots \\\\\n",
    "\\sigma_{1m} & \\sigma_{2m} & \\dots & \\sigma_m^2\n",
    "\\end{array}\n",
    "\\right)\n",
    "$$"
   ]
  },
  {
   "cell_type": "markdown",
   "metadata": {},
   "source": [
    "__Краткий экскурс в линейную алгебру__\n",
    "\n",
    "Давайте разберёмся, что такое собственные векторы и собственные значения матрицы. Рассмотрим матрицу $X$:"
   ]
  },
  {
   "cell_type": "code",
   "execution_count": 1,
   "metadata": {},
   "outputs": [],
   "source": [
    "import numpy as np"
   ]
  },
  {
   "cell_type": "code",
   "execution_count": 2,
   "metadata": {},
   "outputs": [
    {
     "name": "stdout",
     "output_type": "stream",
     "text": [
      "[[ 1.   1.5]\n",
      " [ 1.5 -0.5]]\n"
     ]
    }
   ],
   "source": [
    "X = np.array([[1,    1.5],\n",
    "              [1.5, -0.5]])\n",
    "\n",
    "print(X)"
   ]
  },
  {
   "cell_type": "markdown",
   "metadata": {},
   "source": [
    "Любая квадратная матрица _действует_ на соответствующих векторах, переставляя их в пространстве. Например, возьмём произвольный вектор:"
   ]
  },
  {
   "cell_type": "code",
   "execution_count": 3,
   "metadata": {},
   "outputs": [],
   "source": [
    "v = np.array([1.1, -0.9])"
   ]
  },
  {
   "cell_type": "markdown",
   "metadata": {},
   "source": [
    "Действие матрицы $X$ на этом векторе происходит с помощью операции _умножения матриц_. Подробнее про умножение матриц: \n",
    "\n",
    "Например, умножим матрицу $X$ на выбранный вектор $v$. В результате, получим какой-то новый вектор:"
   ]
  },
  {
   "cell_type": "code",
   "execution_count": 4,
   "metadata": {},
   "outputs": [
    {
     "data": {
      "text/plain": [
       "array([-0.25,  2.1 ])"
      ]
     },
     "execution_count": 4,
     "metadata": {},
     "output_type": "execute_result"
    }
   ],
   "source": [
    "X.dot(v)"
   ]
  },
  {
   "cell_type": "markdown",
   "metadata": {},
   "source": [
    "Визуализируем этот процесс на картинке. Здесь синим обозначен вектор $v$, а оранжевым — его образ $X \\cdot v$."
   ]
  },
  {
   "cell_type": "code",
   "execution_count": 5,
   "metadata": {},
   "outputs": [],
   "source": [
    "from matplotlib import pyplot as plt\n",
    "plt.style.use('seaborn-whitegrid')"
   ]
  },
  {
   "cell_type": "code",
   "execution_count": 7,
   "metadata": {},
   "outputs": [
    {
     "data": {
      "image/png": "[encoded data removed]",
      "text/plain": [
       "<Figure size 432x288 with 1 Axes>"
      ]
     },
     "metadata": {},
     "output_type": "display_data"
    }
   ],
   "source": [
    "plt.arrow(0, 0, v[0], v[1], color='C0', width=0.02)\n",
    "plt.arrow(0, 0, X.dot(v)[0], X.dot(v)[1], color='C1', width=0.01)\n",
    "\n",
    "plt.xlim(-0.5, 1.5)\n",
    "plt.ylim(-1.5, 2.5);"
   ]
  },
  {
   "cell_type": "markdown",
   "metadata": {},
   "source": [
    "Вектор $v$ и его _образ_ под действием $X$ не имеют между собой ничего особенно общего. \n",
    "\n",
    "Оказывается, для любой матрицы существуют особые векторы, которые под действием этой матрицы либо растягиваются, либо сжимаются. Такие векторы называются __собственными__. Вычислим собственные векторы и собственные значения (о них чуть позже) для матрицы $X$:"
   ]
  },
  {
   "cell_type": "code",
   "execution_count": 8,
   "metadata": {},
   "outputs": [
    {
     "name": "stdout",
     "output_type": "stream",
     "text": [
      "собственные значения:\n",
      "[ 1.92705098 -1.42705098]\n",
      "\n",
      "собственные векторы:\n",
      "[[ 0.85065081 -0.52573111]\n",
      " [ 0.52573111  0.85065081]]\n"
     ]
    }
   ],
   "source": [
    "eigenvalues, eigenvectors = np.linalg.eig(X)\n",
    "\n",
    "print(f'собственные значения:\\n{eigenvalues}\\n')\n",
    "print(f'собственные векторы:\\n{eigenvectors}')"
   ]
  },
  {
   "cell_type": "markdown",
   "metadata": {},
   "source": [
    "_Замечание_. Векторы тут записаны именно _в столбцах_.\n",
    "\n",
    "Итак, возьмём, например, первый из этих векторов и попробуем подействовать матрицей на него."
   ]
  },
  {
   "cell_type": "code",
   "execution_count": 9,
   "metadata": {},
   "outputs": [
    {
     "data": {
      "text/plain": [
       "array([0.85065081, 0.52573111])"
      ]
     },
     "execution_count": 9,
     "metadata": {},
     "output_type": "execute_result"
    }
   ],
   "source": [
    "v = eigenvectors[:, 0]\n",
    "v"
   ]
  },
  {
   "cell_type": "code",
   "execution_count": 10,
   "metadata": {},
   "outputs": [
    {
     "data": {
      "text/plain": [
       "array([1.63924748, 1.01311066])"
      ]
     },
     "execution_count": 10,
     "metadata": {},
     "output_type": "execute_result"
    }
   ],
   "source": [
    "X.dot(v)"
   ]
  },
  {
   "cell_type": "code",
   "execution_count": 11,
   "metadata": {},
   "outputs": [
    {
     "data": {
      "text/plain": [
       "(0.0, 1.5)"
      ]
     },
     "execution_count": 11,
     "metadata": {},
     "output_type": "execute_result"
    },
    {
     "data": {
      "image/png": "[encoded data removed]",
      "text/plain": [
       "<Figure size 432x288 with 1 Axes>"
      ]
     },
     "metadata": {},
     "output_type": "display_data"
    }
   ],
   "source": [
    "plt.arrow(0, 0, v[0], v[1], color='C0', width=0.02)\n",
    "plt.arrow(0, 0, X.dot(v)[0], X.dot(v)[1], color='C1', width=0.01)\n",
    "\n",
    "plt.xlim(0, 2)\n",
    "plt.ylim(0, 1.5)"
   ]
  },
  {
   "cell_type": "markdown",
   "metadata": {},
   "source": [
    "Как мы видим, вектор $v$ (синий) под действием матрицы $X$ растянулся (оранжевый). Давайте проверим, во сколько раз он растянулся."
   ]
  },
  {
   "cell_type": "code",
   "execution_count": 12,
   "metadata": {},
   "outputs": [
    {
     "data": {
      "text/plain": [
       "array([1.92705098, 1.92705098])"
      ]
     },
     "execution_count": 12,
     "metadata": {},
     "output_type": "execute_result"
    }
   ],
   "source": [
    "X.dot(v) / v"
   ]
  },
  {
   "cell_type": "markdown",
   "metadata": {},
   "source": [
    "Если покомпонентно разделить образ $X \\cdot v$ на оригинальный вектор $v$, мы увидим, что значения получились одинаковыми. Это согласуется с тем, что векторы $X \\cdot v$ и $v$ параллельны друг другу."
   ]
  },
  {
   "cell_type": "code",
   "execution_count": 13,
   "metadata": {},
   "outputs": [
    {
     "data": {
      "text/plain": [
       "array([1.63924747, 1.01311065])"
      ]
     },
     "execution_count": 13,
     "metadata": {},
     "output_type": "execute_result"
    }
   ],
   "source": [
    "v * 1.92705098"
   ]
  },
  {
   "cell_type": "code",
   "execution_count": 14,
   "metadata": {},
   "outputs": [
    {
     "data": {
      "text/plain": [
       "array([1.63924748, 1.01311066])"
      ]
     },
     "execution_count": 14,
     "metadata": {},
     "output_type": "execute_result"
    }
   ],
   "source": [
    "X.dot(v)"
   ]
  },
  {
   "cell_type": "markdown",
   "metadata": {},
   "source": [
    "Отметим, что этот множитель мы уже где-то видели. Он является собственным значением, соответствующим этому вектору:"
   ]
  },
  {
   "cell_type": "code",
   "execution_count": 15,
   "metadata": {},
   "outputs": [
    {
     "data": {
      "text/plain": [
       "array([ 1.92705098, -1.42705098])"
      ]
     },
     "execution_count": 15,
     "metadata": {},
     "output_type": "execute_result"
    }
   ],
   "source": [
    "eigenvalues"
   ]
  },
  {
   "cell_type": "markdown",
   "metadata": {},
   "source": [
    "Итак, для матрицы $X$ __собственный вектор__ — это такой вектор, который под действием $X$ не меняет направление, а лишь растягивается или сжимается. __Собственное значение__, соответствующее этому собственному вектору — это тот коэффициент, на который он растягивается/сжимается."
   ]
  },
  {
   "cell_type": "markdown",
   "metadata": {},
   "source": [
    "__Назад к методу главных компонент__\n",
    "\n",
    "Допустим, имеется матрица объект-признак: $X = \\left( x_{ij} \\right)_{n \\times m}$ (т.е. $n$ объектов, $m$ признаков).\n",
    "\n",
    "__Метод главных компонент__:\n",
    "\n",
    "1. _Центрировать_ матрицу $X$, т.е. вычесть из каждого столбца среднее по этому столбцу. В результате получится матрица $X^\\ast = \\left( x_{ij}^\\ast \\right)_{n \\times m}$, в которой средние по столбцам равны $0$.\n",
    "2. Вычислить матрицу несмещённых оценок ковариаций $\\operatorname{cov} = \\left( \\sigma_{ij} \\right)_{m \\times m}$.\n",
    "3. Вычислить собственные векторы и собственные значения матрицы $\\operatorname{cov}$.\n",
    "4. Пусть $T$ — матрица, составленная из $q$ собственных векторов (столбцов), соответствующих $q$ наибольшим собственным значениям. Новая матрица объект-признак: $Y = X^\\ast \\cdot T$."
   ]
  },
  {
   "cell_type": "markdown",
   "metadata": {},
   "source": [
    "__Пример 4__\n",
    "\n",
    "Рассмотрим матрицу объект признак:"
   ]
  },
  {
   "cell_type": "code",
   "execution_count": 3,
   "metadata": {},
   "outputs": [],
   "source": [
    "samples = np.array([[ 2.36499331, -0.57978654],\n",
    "                    [ 5.70144948,  3.54257542],\n",
    "                    [ 5.27028536,  2.1560189 ],\n",
    "                    [ 4.14275078,  0.39188923],\n",
    "                    [ 3.93109011,  0.87195848],\n",
    "                    [ 4.59408573,  2.17496773],\n",
    "                    [ 3.53666882,  0.84484304],\n",
    "                    [ 5.13601245,  2.74557671],\n",
    "                    [ 4.40989037,  1.7030094 ],\n",
    "                    [ 5.05796456,  1.86949263]])"
   ]
  },
  {
   "cell_type": "markdown",
   "metadata": {},
   "source": [
    "Поскольку признаков всего $2$, соответствующие объекты можно расположить на плоскости:"
   ]
  },
  {
   "cell_type": "code",
   "execution_count": 17,
   "metadata": {},
   "outputs": [
    {
     "data": {
      "text/plain": [
       "<matplotlib.collections.PathCollection at 0x11a8d32b0>"
      ]
     },
     "execution_count": 17,
     "metadata": {},
     "output_type": "execute_result"
    },
    {
     "data": {
      "image/png": "[encoded data removed]",
      "text/plain": [
       "<Figure size 432x288 with 1 Axes>"
      ]
     },
     "metadata": {},
     "output_type": "display_data"
    }
   ],
   "source": [
    "plt.scatter(samples[:, 0], samples[:, 1])"
   ]
  },
  {
   "cell_type": "markdown",
   "metadata": {},
   "source": [
    "Как мы видим, объекты более-менее лежат на одной прямой. Это означает, что мы можем попытаться заменить два признака на один, при этом не потеряв слишком много информации. Для этого воспользуемся методом главных компонент. Сначала центрируем наши данные:"
   ]
  },
  {
   "cell_type": "code",
   "execution_count": 20,
   "metadata": {},
   "outputs": [
    {
     "data": {
      "text/plain": [
       "array([[4.4145191, 1.5720545]])"
      ]
     },
     "execution_count": 20,
     "metadata": {},
     "output_type": "execute_result"
    }
   ],
   "source": [
    "samples.mean(axis=0, keepdims=True)"
   ]
  },
  {
   "cell_type": "code",
   "execution_count": 21,
   "metadata": {},
   "outputs": [
    {
     "name": "stdout",
     "output_type": "stream",
     "text": [
      "[[-2.04952579 -2.15184104]\n",
      " [ 1.28693038  1.97052092]\n",
      " [ 0.85576626  0.5839644 ]\n",
      " [-0.27176832 -1.18016527]\n",
      " [-0.48342899 -0.70009602]\n",
      " [ 0.17956663  0.60291323]\n",
      " [-0.87785028 -0.72721146]\n",
      " [ 0.72149335  1.17352221]\n",
      " [-0.00462873  0.1309549 ]\n",
      " [ 0.64344546  0.29743813]]\n"
     ]
    }
   ],
   "source": [
    "samples_centered = samples - samples.mean(axis=0, keepdims=True)\n",
    "\n",
    "print(samples_centered)"
   ]
  },
  {
   "cell_type": "code",
   "execution_count": 22,
   "metadata": {},
   "outputs": [
    {
     "data": {
      "text/plain": [
       "array([-3.10862447e-16, -1.33226763e-16])"
      ]
     },
     "execution_count": 22,
     "metadata": {},
     "output_type": "execute_result"
    }
   ],
   "source": [
    "samples_centered.mean(axis=0)"
   ]
  },
  {
   "cell_type": "code",
   "execution_count": 23,
   "metadata": {},
   "outputs": [
    {
     "data": {
      "text/plain": [
       "<matplotlib.collections.PathCollection at 0x11a9385e0>"
      ]
     },
     "execution_count": 23,
     "metadata": {},
     "output_type": "execute_result"
    },
    {
     "data": {
      "image/png": "[encoded data removed]",
      "text/plain": [
       "<Figure size 432x288 with 1 Axes>"
      ]
     },
     "metadata": {},
     "output_type": "display_data"
    }
   ],
   "source": [
    "plt.scatter(samples_centered[:, 0], samples_centered[:, 1])"
   ]
  },
  {
   "cell_type": "markdown",
   "metadata": {},
   "source": [
    "Теперь посчитаем матрицу ковариаций. Отметим, что если функция `numpy.cov` получает на вход двумерный массив, а не несколько одномерных массивов, то ожидается, что значения каждого признака будут расположены в строках (а не в столбцах, как у нас). Поэтому в эту функцию мы подаём транспонированную матрицу `samples_centered.T`."
   ]
  },
  {
   "cell_type": "code",
   "execution_count": 26,
   "metadata": {},
   "outputs": [
    {
     "name": "stdout",
     "output_type": "stream",
     "text": [
      "[[0.95934497 1.09880063]\n",
      " [1.09880063 1.45693615]]\n"
     ]
    }
   ],
   "source": [
    "cov = np.cov(samples_centered.T, ddof=1)\n",
    "\n",
    "print(cov)"
   ]
  },
  {
   "cell_type": "code",
   "execution_count": 27,
   "metadata": {},
   "outputs": [
    {
     "data": {
      "text/plain": [
       "array([0.95934497, 1.45693615])"
      ]
     },
     "execution_count": 27,
     "metadata": {},
     "output_type": "execute_result"
    }
   ],
   "source": [
    "np.var(samples_centered, axis=0, ddof=1)"
   ]
  },
  {
   "cell_type": "markdown",
   "metadata": {},
   "source": [
    "Собственные значения и собственные векторы можно теперь получить с помощью функции `numpy.linalg.eig`."
   ]
  },
  {
   "cell_type": "code",
   "execution_count": 28,
   "metadata": {},
   "outputs": [
    {
     "name": "stdout",
     "output_type": "stream",
     "text": [
      "eigenvalues:\n",
      "[0.08152525 2.33475587]\n",
      "\n",
      "eivenvectors:\n",
      "[[-0.78129206 -0.62416562]\n",
      " [ 0.62416562 -0.78129206]]\n"
     ]
    }
   ],
   "source": [
    "eigenvalues, eigenvectors = np.linalg.eig(cov)\n",
    "\n",
    "print(f'eigenvalues:\\n{eigenvalues}\\n')\n",
    "print(f'eivenvectors:\\n{eigenvectors}')"
   ]
  },
  {
   "cell_type": "markdown",
   "metadata": {},
   "source": [
    "Ещё раз напомним, что в массиве `eigenvectors` векторы записаны именно в столбцах."
   ]
  },
  {
   "cell_type": "markdown",
   "metadata": {},
   "source": [
    "Итак, мы хотим получить один признак, поэтому возьмём второй вектор (он соответствует второму собственному значению, которое сильно больше первого). Домножим матрицу `samples_centered` на этот вектор, чтобы получить новую матрицу объект-признак."
   ]
  },
  {
   "cell_type": "code",
   "execution_count": 29,
   "metadata": {},
   "outputs": [
    {
     "data": {
      "text/plain": [
       "array([[-2.04952579, -2.15184104],\n",
       "       [ 1.28693038,  1.97052092],\n",
       "       [ 0.85576626,  0.5839644 ],\n",
       "       [-0.27176832, -1.18016527],\n",
       "       [-0.48342899, -0.70009602],\n",
       "       [ 0.17956663,  0.60291323],\n",
       "       [-0.87785028, -0.72721146],\n",
       "       [ 0.72149335,  1.17352221],\n",
       "       [-0.00462873,  0.1309549 ],\n",
       "       [ 0.64344546,  0.29743813]])"
      ]
     },
     "execution_count": 29,
     "metadata": {},
     "output_type": "execute_result"
    }
   ],
   "source": [
    "samples_centered"
   ]
  },
  {
   "cell_type": "code",
   "execution_count": 30,
   "metadata": {},
   "outputs": [
    {
     "data": {
      "text/plain": [
       "array([[-0.62416562],\n",
       "       [-0.78129206]])"
      ]
     },
     "execution_count": 30,
     "metadata": {},
     "output_type": "execute_result"
    }
   ],
   "source": [
    "eigenvectors[:, [1]]"
   ]
  },
  {
   "cell_type": "code",
   "execution_count": 31,
   "metadata": {},
   "outputs": [
    {
     "name": "stdout",
     "output_type": "stream",
     "text": [
      "[[ 2.96045985]\n",
      " [-2.34281004]\n",
      " [-0.99038663]\n",
      " [ 1.09168219]\n",
      " [ 0.84871921]\n",
      " [-0.58313064]\n",
      " [ 1.1160885 ]\n",
      " [-1.36719493]\n",
      " [-0.09942493]\n",
      " [-0.63400259]]\n"
     ]
    }
   ],
   "source": [
    "new_samples = samples_centered.dot(eigenvectors[:, [1]])\n",
    "\n",
    "print(new_samples)"
   ]
  },
  {
   "cell_type": "markdown",
   "metadata": {},
   "source": [
    "Качество метода главных компонент можно оценить, сравнивая дисперсии признаков до и после применения метода. \n",
    "    \n",
    "Пусть $\\sigma_X^2$ — сумма дисперсий признаков до применения метода, а $\\sigma_Y^2$ — сумма дисперсий после применения метода. Тогда __доля объяснённой дисперсии__ равна отношению \n",
    "$$\\dfrac{\\sigma_Y^2}{\\sigma_X^2}$$\n",
    "\n",
    "_Замечание_. Поскольку мы в некотором смысле «отсеиваем» признаки, сумма дисперсий после применения метода не может быть больше, чем до.\n",
    "\n",
    "Долю объяснённой дисперсии можно интерпретировать как процент сохранённой информации."
   ]
  },
  {
   "cell_type": "markdown",
   "metadata": {},
   "source": [
    "Посчитаем долю объяснённой дисперсии этого нового признака. Общая дисперсия до применения метода:"
   ]
  },
  {
   "cell_type": "code",
   "execution_count": 32,
   "metadata": {},
   "outputs": [
    {
     "data": {
      "text/plain": [
       "2.416281116587471"
      ]
     },
     "execution_count": 32,
     "metadata": {},
     "output_type": "execute_result"
    }
   ],
   "source": [
    "variance_before = np.var(samples, axis=0, ddof=1).sum()\n",
    "variance_before"
   ]
  },
  {
   "cell_type": "markdown",
   "metadata": {},
   "source": [
    "Посчитаем несмещённую оценку дисперсии нового признака и найдём его долю от общей дисперсии:"
   ]
  },
  {
   "cell_type": "code",
   "execution_count": 34,
   "metadata": {},
   "outputs": [
    {
     "data": {
      "text/plain": [
       "2.3347558703559046"
      ]
     },
     "execution_count": 34,
     "metadata": {},
     "output_type": "execute_result"
    }
   ],
   "source": [
    "variance_after = np.var(new_samples, axis=0, ddof=1).sum()\n",
    "\n",
    "variance_after"
   ]
  },
  {
   "cell_type": "code",
   "execution_count": 35,
   "metadata": {},
   "outputs": [
    {
     "data": {
      "text/plain": [
       "0.966260032546749"
      ]
     },
     "execution_count": 35,
     "metadata": {},
     "output_type": "execute_result"
    }
   ],
   "source": [
    "variance_after / variance_before"
   ]
  },
  {
   "cell_type": "code",
   "execution_count": 36,
   "metadata": {},
   "outputs": [
    {
     "name": "stdout",
     "output_type": "stream",
     "text": [
      "[[ 2.96045985]\n",
      " [-2.34281004]\n",
      " [-0.99038663]\n",
      " [ 1.09168219]\n",
      " [ 0.84871921]\n",
      " [-0.58313064]\n",
      " [ 1.1160885 ]\n",
      " [-1.36719493]\n",
      " [-0.09942493]\n",
      " [-0.63400259]]\n",
      "[0.96626003]\n"
     ]
    }
   ],
   "source": [
    "from sklearn.decomposition import PCA\n",
    "pca = PCA(n_components=1)\n",
    "print(pca.fit_transform(samples))\n",
    "print(pca.explained_variance_ratio_)"
   ]
  },
  {
   "cell_type": "markdown",
   "metadata": {},
   "source": [
    "Такое значение доли объяснённой дисперсии можно интерпретировать так: используя новые данные вместо старых, мы сохраним около $96.6\\%$ информации, т.е. потеряем лишь $3.4 \\%$, что довольно неплохо."
   ]
  },
  {
   "cell_type": "markdown",
   "metadata": {},
   "source": [
    "### Логистическая регрессия\n",
    "\n",
    "Логистическая регрессия возникает в задачах __бинарной классификации__: исследуется некоторый набор объектов, и каждому объекту приписана бинарная метка ($0$ или $1$).\n",
    "\n",
    "В модели __логистической регрессии__ вероятность объекта $x = (x_0, x_1, \\dots, x_m)$ принадлежать классу $1$ моделируется следующим образом:\n",
    "$$P(y = 1 | x) = \\sigma(b_0 x_0  + b_1 x_1 + \\dots + b_m x_m) = \\sigma(x \\cdot b),$$\n",
    "где $\\sigma(z)$ — __логистическая функция__ или __сигмоида__:\n",
    "$$\\sigma(z) = \\dfrac{1}{1 + e^{-z}}$$\n",
    "Сигмоида принимает в качестве аргумента вещественное число, а отдаёт число из промежутка $[0, 1]$.\n",
    "\n",
    "_Замечание_. Как и ранее в линейной регрессии, мы под $x_0$ понимаем «фиктивный» фактор (равный $1$ для каждого объекта), который нужен просто чтобы записать выражение в векторном виде $x \\cdot b$."
   ]
  },
  {
   "cell_type": "markdown",
   "metadata": {},
   "source": [
    "Для оптимизации параметров модели используется __метод максимального правдоподобия__. Его схему можно изобразить следующим образом:\n",
    "$$\\hat{b} = \\displaystyle\\arg\\max_b \\displaystyle\\prod_{i = 1}^n P(y = y_i | x = x_i)$$\n",
    "По сути мы подбираем набор параметров $\\hat{b}$ так, чтобы _максимизировать вероятность наблюдать ту выборку, которая у нас есть_.\n",
    "\n",
    "Тут кроме формулы для $P(y = 1 | x)$ нам понадобится также формула вероятности принадлежности объекта к нулевому классу:\n",
    "$$P(y = 0 | x) = 1 - \\sigma(x \\cdot b)$$\n",
    "\n",
    "Отсюда запишем общую вероятность:\n",
    "$$P(y | x) = \\sigma(x \\cdot b)^y \\cdot \\left( 1 - \\sigma(x \\cdot b) \\right)^{1 - y}$$\n",
    "\n",
    "Эти вероятности и используются в методе максимального правдоподобия.\n",
    "\n",
    "В практическом смысле удобнее максимизировать не саму функцию, а её логарифм (поскольку в этом случае множители превращаются в слагаемые). Итак, __максимизируется функционал__:\n",
    "$$Q(b) = \\displaystyle\\sum_{i = 1}^n \\Big[ y_i \\cdot \\ln \\big( \\sigma(x_i \\cdot b) \\big) + (1 - y_i) \\cdot \\ln \\big( 1 - \\sigma(x_i \\cdot b) \\big) \\Big],$$\n",
    "где $x_i$ — набор признаков $i$-го объекта, $y_i$ — его метка ($0$ или $1$)."
   ]
  },
  {
   "cell_type": "markdown",
   "metadata": {},
   "source": [
    "Для нахождения оптимального решения используют оптимизационные методы, например, __градиентный спуск__. \n",
    "\n",
    "Здесь нам понадобится вектор __градиента__, который состоит из частных производных функционала $Q(b)$ по переменным $b_j$:\n",
    "\n",
    "$$\\nabla Q = \\left( \\dfrac{\\partial Q}{\\partial b_0}, \\dots, \\dfrac{\\partial Q}{\\partial b_m} \\right)$$\n",
    "Результат взятия каждой частной производной вычисляется по формуле:\n",
    "$$\\dfrac{\\partial Q}{\\partial b_j} = \\displaystyle\\sum_{i=1}^n \\big( y_i - \\sigma(b_0 x_{i0} + \\dots + b_m x_{im}) \\big) x_{ij},$$\n",
    "где $x_{ij}$ — $j$-й признак $i$-го объекта из выборки.\n",
    "\n",
    "Вектор градиента указывает направление __наискорейшего роста__.\n",
    "\n",
    "Непосредственно метод градиентного спуска заключается в следующем. Сначала выбираются начальные значения параметров $b_0, \\dots, b_m$, т.е. вектор $b^{[0]}$. Затем итеративно повторяется вычисление:\n",
    "$$b^{[k + 1]} = b^{[k]} + \\lambda_k \\nabla Q \\left( b^{[k]} \\right)$$\n",
    "\n",
    "_Замечание_. Перед вектором градиента стоит знак «$+$», поскольку мы хотим двигаться в направлении роста функционала.\n",
    "\n",
    "Параметр $\\lambda_k$ отвечает за скорость спуска\n",
    "\n",
    "Описанный выше процесс повторяется, пока соседние векторы $b^{[k + 1]}$, $b^{[k]}$ не перестанут сильно отличаться друг от друга."
   ]
  },
  {
   "cell_type": "code",
   "execution_count": 7,
   "metadata": {},
   "outputs": [],
   "source": [
    "def sigmoid(x: float) -> float:\n",
    "    \"\"\"Сигмоида.\n",
    "    \"\"\"\n",
    "    \n",
    "    return 1 / (1 + np.exp(-x))"
   ]
  },
  {
   "cell_type": "code",
   "execution_count": 37,
   "metadata": {},
   "outputs": [],
   "source": [
    "def partial_derivative(j: int, b: np.ndarray, x: np.ndarray, y: np.ndarray) -> float:\n",
    "    \"\"\"Частная производная функционала Q по переменной b_j.\n",
    "    \"\"\"\n",
    "    \n",
    "    return sum(\n",
    "        x[i, j] * (y[i] - sigmoid(b.dot(x[i])))\n",
    "        for i in range(x.shape[0])\n",
    "    )"
   ]
  },
  {
   "cell_type": "code",
   "execution_count": 38,
   "metadata": {},
   "outputs": [],
   "source": [
    "def gradient(b: np.ndarray, x: np.ndarray, y: np.ndarray) -> np.ndarray:\n",
    "    \"\"\"Вектор градиента.\n",
    "    \"\"\"\n",
    "    \n",
    "    return np.array([\n",
    "        partial_derivative(j, b, x, y)\n",
    "        for j in range(b.shape[0])\n",
    "    ])"
   ]
  },
  {
   "cell_type": "code",
   "execution_count": 39,
   "metadata": {},
   "outputs": [],
   "source": [
    "def gradient_descent_step(\n",
    "        lambda_: float,\n",
    "        b: np.ndarray,\n",
    "        x: np.ndarray,\n",
    "        y: np.ndarray,\n",
    ") -> np.ndarray:\n",
    "    \"\"\"Один шаг градиентного спуска.\n",
    "    \"\"\"\n",
    "    \n",
    "    return b + lambda_ * gradient(b, x, y)"
   ]
  },
  {
   "cell_type": "markdown",
   "metadata": {},
   "source": [
    "__Пример 5__\n",
    "\n",
    "Рассмотрим массив `samples` из примера 2."
   ]
  },
  {
   "cell_type": "code",
   "execution_count": 40,
   "metadata": {},
   "outputs": [
    {
     "name": "stdout",
     "output_type": "stream",
     "text": [
      "[[ 2.36499331 -0.57978654]\n",
      " [ 5.70144948  3.54257542]\n",
      " [ 5.27028536  2.1560189 ]\n",
      " [ 4.14275078  0.39188923]\n",
      " [ 3.93109011  0.87195848]\n",
      " [ 4.59408573  2.17496773]\n",
      " [ 3.53666882  0.84484304]\n",
      " [ 5.13601245  2.74557671]\n",
      " [ 4.40989037  1.7030094 ]\n",
      " [ 5.05796456  1.86949263]]\n"
     ]
    },
    {
     "data": {
      "text/plain": [
       "<matplotlib.collections.PathCollection at 0x11bf7c640>"
      ]
     },
     "execution_count": 40,
     "metadata": {},
     "output_type": "execute_result"
    },
    {
     "data": {
      "image/png": "[encoded data removed]",
      "text/plain": [
       "<Figure size 432x288 with 1 Axes>"
      ]
     },
     "metadata": {},
     "output_type": "display_data"
    }
   ],
   "source": [
    "print(samples)\n",
    "\n",
    "plt.scatter(samples[:, 0], samples[:, 1])"
   ]
  },
  {
   "cell_type": "markdown",
   "metadata": {},
   "source": [
    "Рассмотрим набор меток к этим объектам:"
   ]
  },
  {
   "cell_type": "code",
   "execution_count": 6,
   "metadata": {},
   "outputs": [
    {
     "data": {
      "text/plain": [
       "<matplotlib.collections.PathCollection at 0x1f1d7ad8088>"
      ]
     },
     "execution_count": 6,
     "metadata": {},
     "output_type": "execute_result"
    },
    {
     "data": {
      "image/png": "[encoded data removed]",
      "text/plain": [
       "<Figure size 432x288 with 1 Axes>"
      ]
     },
     "metadata": {
      "needs_background": "light"
     },
     "output_type": "display_data"
    }
   ],
   "source": [
    "y = np.array([0, 1, 0, 0, 0, 1, 1, 1, 1, 1])\n",
    "\n",
    "color = {0: 'C0', 1: 'C3'}\n",
    "color = [color[i] for i in y]\n",
    "\n",
    "plt.scatter(samples[:, 0], samples[:, 1], color=color)"
   ]
  },
  {
   "cell_type": "markdown",
   "metadata": {},
   "source": [
    "Построим для данной задачи модель логистической регрессии методом градиентного спуска.\n",
    "\n",
    "Для начала отмасштабируем наши данные, чтобы значения каждого признака попадали в интервал $[0, 1]$. Это немного упростит процесс оптимизации."
   ]
  },
  {
   "cell_type": "code",
   "execution_count": 4,
   "metadata": {},
   "outputs": [
    {
     "data": {
      "text/plain": [
       "array([[0.        , 0.        ],\n",
       "       [1.        , 1.        ],\n",
       "       [0.87077183, 0.66364998],\n",
       "       [0.53282806, 0.2357085 ],\n",
       "       [0.46938929, 0.3521634 ],\n",
       "       [0.66810181, 0.66824658],\n",
       "       [0.35117366, 0.34558576],\n",
       "       [0.83052766, 0.80666455],\n",
       "       [0.61289493, 0.55375922],\n",
       "       [0.80713521, 0.59414462]])"
      ]
     },
     "execution_count": 4,
     "metadata": {},
     "output_type": "execute_result"
    }
   ],
   "source": [
    "samples = (samples - samples.min(axis=0)) / (samples.max(axis=0) - samples.min(axis=0))\n",
    "\n",
    "samples"
   ]
  },
  {
   "cell_type": "code",
   "execution_count": 43,
   "metadata": {},
   "outputs": [
    {
     "data": {
      "text/plain": [
       "<matplotlib.collections.PathCollection at 0x11a868820>"
      ]
     },
     "execution_count": 43,
     "metadata": {},
     "output_type": "execute_result"
    },
    {
     "data": {
      "image/png": "[encoded data removed]",
      "text/plain": [
       "<Figure size 432x288 with 1 Axes>"
      ]
     },
     "metadata": {},
     "output_type": "display_data"
    }
   ],
   "source": [
    "plt.scatter(samples[:, 0], samples[:, 1], color=color)"
   ]
  },
  {
   "cell_type": "markdown",
   "metadata": {},
   "source": [
    "Добавим столбец «фиктивного» фактора:"
   ]
  },
  {
   "cell_type": "code",
   "execution_count": 5,
   "metadata": {},
   "outputs": [
    {
     "data": {
      "text/plain": [
       "array([[1.        , 0.        , 0.        ],\n",
       "       [1.        , 1.        , 1.        ],\n",
       "       [1.        , 0.87077183, 0.66364998],\n",
       "       [1.        , 0.53282806, 0.2357085 ],\n",
       "       [1.        , 0.46938929, 0.3521634 ],\n",
       "       [1.        , 0.66810181, 0.66824658],\n",
       "       [1.        , 0.35117366, 0.34558576],\n",
       "       [1.        , 0.83052766, 0.80666455],\n",
       "       [1.        , 0.61289493, 0.55375922],\n",
       "       [1.        , 0.80713521, 0.59414462]])"
      ]
     },
     "execution_count": 5,
     "metadata": {},
     "output_type": "execute_result"
    }
   ],
   "source": [
    "ones = np.ones((samples.shape[0], 1))\n",
    "\n",
    "x = np.hstack([ones, samples])\n",
    "\n",
    "x"
   ]
  },
  {
   "cell_type": "markdown",
   "metadata": {},
   "source": [
    "Нам понадобится метрика чтобы вычислять расстояние между соседними векторами параметров. Будем использовать евклидово расстояние."
   ]
  },
  {
   "cell_type": "code",
   "execution_count": 45,
   "metadata": {},
   "outputs": [],
   "source": [
    "from scipy.spatial.distance import euclidean"
   ]
  },
  {
   "cell_type": "markdown",
   "metadata": {},
   "source": [
    "Начальное приближение $b^{[0]}$ можно выбирать нулевым или произвольным. Будем также использовать коэффициент $\\lambda_k = \\dfrac{0.1}{k}$."
   ]
  },
  {
   "cell_type": "code",
   "execution_count": 47,
   "metadata": {},
   "outputs": [
    {
     "data": {
      "application/vnd.jupyter.widget-view+json": {
       "model_id": "7385fb46d09f492c908607982414cbf1",
       "version_major": 2,
       "version_minor": 0
      },
      "text/plain": [
       "HBox(children=(FloatProgress(value=0.0, max=999999.0), HTML(value='')))"
      ]
     },
     "metadata": {},
     "output_type": "display_data"
    },
    {
     "name": "stdout",
     "output_type": "stream",
     "text": [
      "success on step 6136\n",
      "\n",
      "\n",
      "[-0.03670051  0.41548189  0.65301927]\n"
     ]
    }
   ],
   "source": [
    "b_0 = np.zeros(x.shape[1])\n",
    "\n",
    "b = b_0\n",
    "\n",
    "for k in range(1, 10 ** 6):\n",
    "    lambda_ = 0.1 / k\n",
    "    \n",
    "    b_new = gradient_descent_step(lambda_, b, x, y)\n",
    "        \n",
    "    if euclidean(b, b_new) < 10 ** (-5):\n",
    "        print(f'success on step {k}\\n')\n",
    "        \n",
    "        break\n",
    "    \n",
    "    b = b_new\n",
    "\n",
    "b = b_new\n",
    "\n",
    "print(b)"
   ]
  },
  {
   "cell_type": "markdown",
   "metadata": {},
   "source": [
    "Для сравнения также построим модель логистической регрессии из библиотеки `sklearn`."
   ]
  },
  {
   "cell_type": "code",
   "execution_count": 3,
   "metadata": {},
   "outputs": [],
   "source": [
    "from sklearn.linear_model import LogisticRegression"
   ]
  },
  {
   "cell_type": "code",
   "execution_count": 49,
   "metadata": {},
   "outputs": [
    {
     "name": "stdout",
     "output_type": "stream",
     "text": [
      "Коэффициенты: [-0.09047654  0.35720772  0.61585617]\n",
      "Число итераций: [3]\n"
     ]
    }
   ],
   "source": [
    "model = LogisticRegression(solver='liblinear', fit_intercept=False)\n",
    "\n",
    "model.fit(x, y)\n",
    "b_sklearn = model.coef_.flatten()\n",
    "\n",
    "print(f'Коэффициенты: {b_sklearn}')\n",
    "print(f'Число итераций: {model.n_iter_}')"
   ]
  },
  {
   "cell_type": "markdown",
   "metadata": {},
   "source": [
    "Видим, что коэффициенты достаточно близки, но модели из `sklearn` понадобилось ощутимо меньше итераций."
   ]
  },
  {
   "cell_type": "markdown",
   "metadata": {},
   "source": [
    "__Логистическая регрессия. Принятие решения__\n",
    "\n",
    "Напомним, что модель логистической регрессии можно записать в следующем виде:\n",
    "$$P(y = 1 | x) = \\sigma(x \\cdot b)$$\n",
    "\n",
    "Такая модель на выходе даёт значение из интервала $[0, 1]$, которое интерпретируется как вероятность объекта $x$ принадлежать классу $1$. Как правило, дальше по некоторому пороговому значению $t$ принимается решение о том, к какому классу причислять объект:\n",
    "$$y = \\begin{cases} 1, & P(y = 1|x) \\geq t, \\\\ 0 & \\text{иначе.} \\end{cases}$$\n",
    "\n"
   ]
  },
  {
   "cell_type": "markdown",
   "metadata": {},
   "source": [
    "__Пример 6__\n",
    "\n",
    "Продолжая пример 3, для подобранных нами параметров получим вектор из предсказанных значений $z = \\sigma(X \\cdot b)$."
   ]
  },
  {
   "cell_type": "code",
   "execution_count": 8,
   "metadata": {},
   "outputs": [
    {
     "name": "stdout",
     "output_type": "stream",
     "text": [
      "[0.4908259  0.73726484 0.68102052 0.58385092 0.5958714  0.66312724\n",
      " 0.58294627 0.69743985 0.64096654 0.66521849]\n"
     ]
    }
   ],
   "source": [
    "b = [-0.03670051, 0.41548189, 0.65301927]\n",
    "z = x.dot(b)\n",
    "\n",
    "z = np.array([sigmoid(z_i) for z_i in z])\n",
    "\n",
    "print(z)"
   ]
  },
  {
   "cell_type": "code",
   "execution_count": 13,
   "metadata": {},
   "outputs": [
    {
     "data": {
      "text/plain": [
       "[0, 1, 1, 0, 0, 1, 0, 1, 1, 1]"
      ]
     },
     "execution_count": 13,
     "metadata": {},
     "output_type": "execute_result"
    }
   ],
   "source": [
    "y_hat = []\n",
    "for i in z:\n",
    "    if i > 0.6:\n",
    "        y_hat.append(1)\n",
    "    else:\n",
    "        y_hat.append(0)\n",
    "y_hat       "
   ]
  },
  {
   "cell_type": "code",
   "execution_count": 51,
   "metadata": {},
   "outputs": [
    {
     "data": {
      "text/plain": [
       "array([0, 1, 0, 0, 0, 1, 1, 1, 1, 1])"
      ]
     },
     "execution_count": 51,
     "metadata": {},
     "output_type": "execute_result"
    }
   ],
   "source": [
    "y"
   ]
  },
  {
   "cell_type": "markdown",
   "metadata": {},
   "source": [
    "### Упражнения"
   ]
  },
  {
   "cell_type": "markdown",
   "metadata": {},
   "source": [
    "__Задача 1__\n",
    "\n",
    "Провести дисперсионный анализ для определения того, есть ли различия среднего роста среди взрослых футболистов, хоккеистов и штангистов. Даны значения роста в трех группах случайно выбранных спортсменов: \n",
    "```\n",
    "football_players = [173, 175, 180, 178, 177, 185, 183, 182]\n",
    "hockey_players = [177, 179, 180, 188, 177, 172, 171, 184, 180]\n",
    "lifters = [172, 173, 169, 177, 166, 180, 178, 177, 172, 166, 170]\n",
    "```\n",
    "\n",
    "__Задача 2__\n",
    "\n",
    "Прикрепите ссылку на курсовой проект на `github` (см. выбор темы в ДЗ к Уроку 6)."
   ]
  }
 ],
 "metadata": {
  "colab": {
   "name": "Матстат - Урок 8.ipynb",
   "provenance": [],
   "version": "0.3.2"
  },
  "kernelspec": {
   "display_name": "Python 3",
   "language": "python",
   "name": "python3"
  },
  "language_info": {
   "codemirror_mode": {
    "name": "ipython",
    "version": 3
   },
   "file_extension": ".py",
   "mimetype": "text/x-python",
   "name": "python",
   "nbconvert_exporter": "python",
   "pygments_lexer": "ipython3",
   "version": "3.7.4"
  }
 },
 "nbformat": 4,
 "nbformat_minor": 4
}
