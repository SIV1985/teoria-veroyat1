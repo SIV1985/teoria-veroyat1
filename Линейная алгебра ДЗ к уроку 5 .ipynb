{
 "cells": [
  {
   "cell_type": "code",
   "execution_count": null,
   "id": "7a74630a",
   "metadata": {},
   "outputs": [],
   "source": [
    "#Найти с помощью NumPy SVD для матрицы:"
   ]
  },
  {
   "cell_type": "code",
   "execution_count": null,
   "id": "757d319b",
   "metadata": {},
   "outputs": [],
   "source": [
    "import numpy as np\n",
    "np.set_printoptions(precision=2, suppress=True)"
   ]
  },
  {
   "cell_type": "code",
   "execution_count": null,
   "id": "080f3733",
   "metadata": {},
   "outputs": [],
   "source": [
    "A = np.array([[1, 2, 0],\n",
    "              [0, 0, 5],\n",
    "              [3, -4, 2],\n",
    "              [1, 6, 5],\n",
    "              [0, 1, 0]])\n",
    "print(f'Матрица A:\\n{A}')"
   ]
  },
  {
   "cell_type": "code",
   "execution_count": null,
   "id": "77718b5f",
   "metadata": {},
   "outputs": [],
   "source": [
    "Матрица A:\n",
    "[[ 1  2  0]\n",
    " [ 0  0  5]\n",
    " [ 3 -4  2] \n",
    " [ 1  6  5]\n",
    " [ 0  1  0]]"
   ]
  },
  {
   "cell_type": "code",
   "execution_count": null,
   "id": "79018bd1",
   "metadata": {},
   "outputs": [],
   "source": [
    "U, s, W = np.linalg.svd(A)"
   ]
  },
  {
   "cell_type": "code",
   "execution_count": null,
   "id": "f2016aec",
   "metadata": {},
   "outputs": [],
   "source": [
    "V = W.T"
   ]
  },
  {
   "cell_type": "code",
   "execution_count": null,
   "id": "4e319e9a",
   "metadata": {},
   "outputs": [],
   "source": [
    "Sigma = np.zeros_like(A, dtype=float)\n",
    "Sigma[np.diag_indices(min(A.shape))] = s"
   ]
  },
  {
   "cell_type": "code",
   "execution_count": null,
   "id": "04b5040d",
   "metadata": {},
   "outputs": [],
   "source": [
    "print(f'Матрица U:\\n{U}')\n",
    "print(f'Матрица Sigma:\\n{Sigma}')\n",
    "print(f'Матрица V:\\n{V}')"
   ]
  },
  {
   "cell_type": "code",
   "execution_count": null,
   "id": "c605f58a",
   "metadata": {},
   "outputs": [],
   "source": [
    "Матрица U:\n",
    "[[ 0.17  0.16 -0.53 -0.8  -0.16]\n",
    " [ 0.39 -0.53  0.61 -0.43  0.03]\n",
    " [-0.14 -0.82 -0.52  0.14  0.07]\n",
    " [ 0.89  0.06 -0.25  0.38 -0.06]\n",
    " [ 0.08  0.11 -0.08 -0.11  0.98]]\n",
    "Матрица Sigma:\n",
    "[[8.82 0.   0.  ]\n",
    " [0.   6.14 0.  ]\n",
    " [0.   0.   2.53]\n",
    " [0.   0.   0.  ]\n",
    " [0.   0.   0.  ]]\n",
    "Матрица V:\n",
    "[[ 0.07 -0.37 -0.93]\n",
    " [ 0.72  0.67 -0.21]\n",
    " [ 0.69 -0.65  0.31]]"
   ]
  },
  {
   "cell_type": "code",
   "execution_count": null,
   "id": "4dfb36c3",
   "metadata": {},
   "outputs": [],
   "source": [
    "#Евклидова норма"
   ]
  },
  {
   "cell_type": "code",
   "execution_count": null,
   "id": "bb2f4964",
   "metadata": {},
   "outputs": [],
   "source": [
    "np.linalg.norm(A, ord=2)\n",
    "8.824868854820444"
   ]
  },
  {
   "cell_type": "code",
   "execution_count": null,
   "id": "4b29f907",
   "metadata": {},
   "outputs": [],
   "source": [
    "#Норма Фробениуса"
   ]
  },
  {
   "cell_type": "code",
   "execution_count": 15,
   "id": "f63b3cdf",
   "metadata": {},
   "outputs": [
    {
     "data": {
      "text/plain": [
       "11.045361017187261"
      ]
     },
     "execution_count": 15,
     "metadata": {},
     "output_type": "execute_result"
    }
   ],
   "source": [
    "(122)**(1 / 2)"
   ]
  },
  {
   "cell_type": "code",
   "execution_count": 16,
   "id": "1962c783",
   "metadata": {},
   "outputs": [
    {
     "data": {
      "text/plain": [
       "11.04051176350082"
      ]
     },
     "execution_count": 16,
     "metadata": {},
     "output_type": "execute_result"
    }
   ],
   "source": [
    "(8.82**2 + 6.14**2 + 2.53**2)**(1 / 2)"
   ]
  },
  {
   "cell_type": "code",
   "execution_count": 18,
   "id": "47329e25",
   "metadata": {},
   "outputs": [
    {
     "ename": "NameError",
     "evalue": "name 'np' is not defined",
     "output_type": "error",
     "traceback": [
      "\u001b[1;31m---------------------------------------------------------------------------\u001b[0m",
      "\u001b[1;31mNameError\u001b[0m                                 Traceback (most recent call last)",
      "\u001b[1;32m<ipython-input-18-b6b0b04586f1>\u001b[0m in \u001b[0;36m<module>\u001b[1;34m\u001b[0m\n\u001b[1;32m----> 1\u001b[1;33m \u001b[0mnp\u001b[0m\u001b[1;33m.\u001b[0m\u001b[0mlinalg\u001b[0m\u001b[1;33m.\u001b[0m\u001b[0mnorm\u001b[0m\u001b[1;33m(\u001b[0m\u001b[0mA\u001b[0m\u001b[1;33m,\u001b[0m \u001b[0mord\u001b[0m\u001b[1;33m=\u001b[0m\u001b[1;32mNone\u001b[0m\u001b[1;33m)\u001b[0m\u001b[1;33m\u001b[0m\u001b[1;33m\u001b[0m\u001b[0m\n\u001b[0m",
      "\u001b[1;31mNameError\u001b[0m: name 'np' is not defined"
     ]
    }
   ],
   "source": [
    "np.linalg.norm(A, ord=None)"
   ]
  },
  {
   "cell_type": "code",
   "execution_count": null,
   "id": "e0620e2a",
   "metadata": {},
   "outputs": [],
   "source": []
  }
 ],
 "metadata": {
  "kernelspec": {
   "display_name": "Python 3",
   "language": "python",
   "name": "python3"
  },
  "language_info": {
   "codemirror_mode": {
    "name": "ipython",
    "version": 3
   },
   "file_extension": ".py",
   "mimetype": "text/x-python",
   "name": "python",
   "nbconvert_exporter": "python",
   "pygments_lexer": "ipython3",
   "version": "3.8.8"
  }
 },
 "nbformat": 4,
 "nbformat_minor": 5
}
