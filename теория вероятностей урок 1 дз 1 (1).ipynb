{
 "cells": [
  {
   "cell_type": "code",
   "execution_count": 1,
   "id": "c51fdf15",
   "metadata": {},
   "outputs": [],
   "source": [
    "#дз1 задача 1"
   ]
  },
  {
   "cell_type": "code",
   "execution_count": 2,
   "id": "9c9014d2",
   "metadata": {},
   "outputs": [],
   "source": [
    "from math import factorial"
   ]
  },
  {
   "cell_type": "code",
   "execution_count": 3,
   "id": "4bfea854",
   "metadata": {},
   "outputs": [],
   "source": [
    "def combinations(n, k):\n",
    "    return int(factorial(n) / (factorial(k) * factorial(n - k)))"
   ]
  },
  {
   "cell_type": "code",
   "execution_count": 4,
   "id": "186af038",
   "metadata": {},
   "outputs": [
    {
     "data": {
      "text/plain": [
       "210"
      ]
     },
     "execution_count": 4,
     "metadata": {},
     "output_type": "execute_result"
    }
   ],
   "source": [
    "combinations(10, 4)"
   ]
  },
  {
   "cell_type": "code",
   "execution_count": null,
   "id": "b3de4b32",
   "metadata": {},
   "outputs": [],
   "source": []
  },
  {
   "cell_type": "code",
   "execution_count": 5,
   "id": "61a7d99f",
   "metadata": {},
   "outputs": [],
   "source": [
    "#дз1 задача 2"
   ]
  },
  {
   "cell_type": "code",
   "execution_count": 6,
   "id": "17531537",
   "metadata": {},
   "outputs": [
    {
     "data": {
      "text/plain": [
       "4"
      ]
     },
     "execution_count": 6,
     "metadata": {},
     "output_type": "execute_result"
    }
   ],
   "source": [
    "combinations(4, 1)"
   ]
  },
  {
   "cell_type": "code",
   "execution_count": 7,
   "id": "d438c75f",
   "metadata": {},
   "outputs": [
    {
     "data": {
      "text/plain": [
       "22100"
      ]
     },
     "execution_count": 7,
     "metadata": {},
     "output_type": "execute_result"
    }
   ],
   "source": [
    "combinations(52, 3)"
   ]
  },
  {
   "cell_type": "code",
   "execution_count": 9,
   "id": "a5d56aca",
   "metadata": {},
   "outputs": [
    {
     "name": "stdout",
     "output_type": "stream",
     "text": [
      "88400\n"
     ]
    }
   ],
   "source": [
    "a = combinations(4, 1) * combinations(52, 3)\n",
    "print(a)"
   ]
  },
  {
   "cell_type": "code",
   "execution_count": 10,
   "id": "db17e015",
   "metadata": {},
   "outputs": [
    {
     "data": {
      "text/plain": [
       "6"
      ]
     },
     "execution_count": 10,
     "metadata": {},
     "output_type": "execute_result"
    }
   ],
   "source": [
    "combinations(4, 2)"
   ]
  },
  {
   "cell_type": "code",
   "execution_count": 11,
   "id": "8fdd492d",
   "metadata": {},
   "outputs": [
    {
     "data": {
      "text/plain": [
       "1326"
      ]
     },
     "execution_count": 11,
     "metadata": {},
     "output_type": "execute_result"
    }
   ],
   "source": [
    "combinations(52, 2)"
   ]
  },
  {
   "cell_type": "code",
   "execution_count": 12,
   "id": "a8b4731d",
   "metadata": {},
   "outputs": [
    {
     "name": "stdout",
     "output_type": "stream",
     "text": [
      "7956\n"
     ]
    }
   ],
   "source": [
    "b = combinations(4, 2) * combinations(52, 2)\n",
    "print(b)"
   ]
  },
  {
   "cell_type": "code",
   "execution_count": 13,
   "id": "231fc471",
   "metadata": {},
   "outputs": [
    {
     "data": {
      "text/plain": [
       "4"
      ]
     },
     "execution_count": 13,
     "metadata": {},
     "output_type": "execute_result"
    }
   ],
   "source": [
    "combinations(4, 3)"
   ]
  },
  {
   "cell_type": "code",
   "execution_count": 14,
   "id": "a844dbc8",
   "metadata": {},
   "outputs": [
    {
     "data": {
      "text/plain": [
       "52"
      ]
     },
     "execution_count": 14,
     "metadata": {},
     "output_type": "execute_result"
    }
   ],
   "source": [
    "combinations(52, 1)"
   ]
  },
  {
   "cell_type": "code",
   "execution_count": 15,
   "id": "dc6a048c",
   "metadata": {},
   "outputs": [
    {
     "name": "stdout",
     "output_type": "stream",
     "text": [
      "208\n"
     ]
    }
   ],
   "source": [
    "c = combinations(4, 3) * combinations(52, 1)\n",
    "print(c)"
   ]
  },
  {
   "cell_type": "code",
   "execution_count": 16,
   "id": "ca0749d6",
   "metadata": {},
   "outputs": [
    {
     "data": {
      "text/plain": [
       "1"
      ]
     },
     "execution_count": 16,
     "metadata": {},
     "output_type": "execute_result"
    }
   ],
   "source": [
    "combinations(4, 4)"
   ]
  },
  {
   "cell_type": "code",
   "execution_count": 17,
   "id": "0afc63c4",
   "metadata": {},
   "outputs": [
    {
     "data": {
      "text/plain": [
       "1"
      ]
     },
     "execution_count": 17,
     "metadata": {},
     "output_type": "execute_result"
    }
   ],
   "source": [
    "combinations(52, 0)"
   ]
  },
  {
   "cell_type": "code",
   "execution_count": 18,
   "id": "95c1adc5",
   "metadata": {},
   "outputs": [
    {
     "name": "stdout",
     "output_type": "stream",
     "text": [
      "1\n"
     ]
    }
   ],
   "source": [
    "d = combinations(4, 4) * combinations(52, 0)\n",
    "print(d)"
   ]
  },
  {
   "cell_type": "code",
   "execution_count": 19,
   "id": "18be9697",
   "metadata": {},
   "outputs": [
    {
     "data": {
      "text/plain": [
       "96565"
      ]
     },
     "execution_count": 19,
     "metadata": {},
     "output_type": "execute_result"
    }
   ],
   "source": [
    "a + b + c + d"
   ]
  },
  {
   "cell_type": "code",
   "execution_count": null,
   "id": "75fbc6d1",
   "metadata": {},
   "outputs": [],
   "source": [
    "#дз1 задача 3"
   ]
  },
  {
   "cell_type": "code",
   "execution_count": 20,
   "id": "b362c51d",
   "metadata": {},
   "outputs": [],
   "source": [
    "def arrangements(n, k):\n",
    "    return int(factorial(n) / factorial(n - k))"
   ]
  },
  {
   "cell_type": "code",
   "execution_count": 21,
   "id": "e5e9be1a",
   "metadata": {},
   "outputs": [
    {
     "data": {
      "text/plain": [
       "42"
      ]
     },
     "execution_count": 21,
     "metadata": {},
     "output_type": "execute_result"
    }
   ],
   "source": [
    "arrangements(7, 2)"
   ]
  },
  {
   "cell_type": "code",
   "execution_count": null,
   "id": "fa173b59",
   "metadata": {},
   "outputs": [],
   "source": [
    "#дз1 задача 4 часть 1(все вопросы): "
   ]
  },
  {
   "cell_type": "code",
   "execution_count": 1,
   "id": "9a3fd9ae",
   "metadata": {},
   "outputs": [],
   "source": [
    "from math import factorial"
   ]
  },
  {
   "cell_type": "code",
   "execution_count": 2,
   "id": "c9c2e48e",
   "metadata": {},
   "outputs": [],
   "source": [
    "def combinations(n, k):\n",
    "    return int(factorial(n) / (factorial(k) * factorial(n - k)))\n"
   ]
  },
  {
   "cell_type": "code",
   "execution_count": 3,
   "id": "b4e31223",
   "metadata": {},
   "outputs": [
    {
     "data": {
      "text/plain": [
       "34220"
      ]
     },
     "execution_count": 3,
     "metadata": {},
     "output_type": "execute_result"
    }
   ],
   "source": [
    "combinations(60, 3)"
   ]
  },
  {
   "cell_type": "code",
   "execution_count": 5,
   "id": "ac995749",
   "metadata": {},
   "outputs": [
    {
     "data": {
      "text/plain": [
       "19600"
      ]
     },
     "execution_count": 5,
     "metadata": {},
     "output_type": "execute_result"
    }
   ],
   "source": [
    "combinations(50, 3)"
   ]
  },
  {
   "cell_type": "code",
   "execution_count": 7,
   "id": "e4cdddfa",
   "metadata": {},
   "outputs": [
    {
     "name": "stdout",
     "output_type": "stream",
     "text": [
      "0.5727644652250146\n"
     ]
    }
   ],
   "source": [
    "P(a) = combinations(50, 3) / combinations(60, 3)\n",
    "print(P(a))"
   ]
  },
  {
   "cell_type": "code",
   "execution_count": 8,
   "id": "af08f5c2",
   "metadata": {},
   "outputs": [],
   "source": [
    "#дз1 задача 4 часть 1(все вопросы): "
   ]
  },
  {
   "cell_type": "code",
   "execution_count": 9,
   "id": "1c154b81",
   "metadata": {},
   "outputs": [],
   "source": [
    "from math import factorial"
   ]
  },
  {
   "cell_type": "code",
   "execution_count": 10,
   "id": "136b7a83",
   "metadata": {},
   "outputs": [],
   "source": [
    "def combinations(n, k):\n",
    "    return int(factorial(n) / (factorial(k) * factorial(n - k)))\n"
   ]
  },
  {
   "cell_type": "code",
   "execution_count": 11,
   "id": "eeab8f72",
   "metadata": {},
   "outputs": [
    {
     "data": {
      "text/plain": [
       "1225"
      ]
     },
     "execution_count": 11,
     "metadata": {},
     "output_type": "execute_result"
    }
   ],
   "source": [
    "combinations(50, 2)"
   ]
  },
  {
   "cell_type": "code",
   "execution_count": 12,
   "id": "b3500f49",
   "metadata": {},
   "outputs": [
    {
     "data": {
      "text/plain": [
       "10"
      ]
     },
     "execution_count": 12,
     "metadata": {},
     "output_type": "execute_result"
    }
   ],
   "source": [
    "combinations(10, 1)"
   ]
  },
  {
   "cell_type": "code",
   "execution_count": 13,
   "id": "b66af198",
   "metadata": {},
   "outputs": [
    {
     "data": {
      "text/plain": [
       "34220"
      ]
     },
     "execution_count": 13,
     "metadata": {},
     "output_type": "execute_result"
    }
   ],
   "source": [
    "combinations(60, 3)"
   ]
  },
  {
   "cell_type": "code",
   "execution_count": 17,
   "id": "560d6cda",
   "metadata": {},
   "outputs": [
    {
     "name": "stdout",
     "output_type": "stream",
     "text": [
      "0.35797779076563413\n"
     ]
    }
   ],
   "source": [
    "P = combinations(50, 2) * combinations(10, 1) / combinations(60, 3)\n",
    "print(P)"
   ]
  }
 ],
 "metadata": {
  "kernelspec": {
   "display_name": "Python 3",
   "language": "python",
   "name": "python3"
  },
  "language_info": {
   "codemirror_mode": {
    "name": "ipython",
    "version": 3
   },
   "file_extension": ".py",
   "mimetype": "text/x-python",
   "name": "python",
   "nbconvert_exporter": "python",
   "pygments_lexer": "ipython3",
   "version": "3.8.8"
  }
 },
 "nbformat": 4,
 "nbformat_minor": 5
}
