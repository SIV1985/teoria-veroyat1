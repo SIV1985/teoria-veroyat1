{
 "cells": [
  {
   "cell_type": "code",
   "execution_count": 1,
   "id": "0289355d",
   "metadata": {},
   "outputs": [],
   "source": [
    "#дз2 задача 1"
   ]
  },
  {
   "cell_type": "code",
   "execution_count": 2,
   "id": "ca8015bc",
   "metadata": {},
   "outputs": [],
   "source": [
    "import numpy as np"
   ]
  },
  {
   "cell_type": "code",
   "execution_count": 3,
   "id": "376e727e",
   "metadata": {},
   "outputs": [
    {
     "data": {
      "text/plain": [
       "2"
      ]
     },
     "execution_count": 3,
     "metadata": {},
     "output_type": "execute_result"
    }
   ],
   "source": [
    "# n - число испытаний\n",
    "# p - вероятность появления события\n",
    "np.random.binomial(n=5, p=0.25)"
   ]
  },
  {
   "cell_type": "code",
   "execution_count": null,
   "id": "76ec54d2",
   "metadata": {},
   "outputs": [],
   "source": [
    "#дз2 задача 3"
   ]
  },
  {
   "cell_type": "code",
   "execution_count": 4,
   "id": "8f97aef2",
   "metadata": {},
   "outputs": [],
   "source": [
    "def poission_proba(k, lambda_):\n",
    "    return (lambda_ ** k) * (np.exp(-lambda_)) / np.math.factorial(k)\n"
   ]
  },
  {
   "cell_type": "code",
   "execution_count": 6,
   "id": "3ca7db8f",
   "metadata": {},
   "outputs": [],
   "source": [
    "lambda_ = 10"
   ]
  },
  {
   "cell_type": "code",
   "execution_count": 8,
   "id": "fb1d1ab8",
   "metadata": {},
   "outputs": [
    {
     "data": {
      "text/plain": [
       "0.5830397501929856"
      ]
     },
     "execution_count": 8,
     "metadata": {},
     "output_type": "execute_result"
    }
   ],
   "source": [
    "sum(poission_proba(k=i, lambda_=lambda_) for i in range(11))"
   ]
  },
  {
   "cell_type": "code",
   "execution_count": 9,
   "id": "8f675793",
   "metadata": {},
   "outputs": [],
   "source": [
    "#дз2 задача 2(3)"
   ]
  },
  {
   "cell_type": "code",
   "execution_count": 10,
   "id": "e2d2d95d",
   "metadata": {},
   "outputs": [],
   "source": [
    "def poission_proba(k, lambda_):\n",
    "    return (lambda_ ** k) * (np.exp(-lambda_)) / np.math.factorial(k)\n"
   ]
  },
  {
   "cell_type": "code",
   "execution_count": 11,
   "id": "70b0f1f8",
   "metadata": {},
   "outputs": [
    {
     "data": {
      "text/plain": [
       "0.03608940886309672"
      ]
     },
     "execution_count": 11,
     "metadata": {},
     "output_type": "execute_result"
    }
   ],
   "source": [
    "n = 200\n",
    "m = 5\n",
    "p = 0.01\n",
    "lambda_ = n * p\n",
    "\n",
    "(lambda_**m / np.math.factorial(m)) * np.exp(-lambda_)"
   ]
  },
  {
   "cell_type": "code",
   "execution_count": 12,
   "id": "6192da27",
   "metadata": {},
   "outputs": [
    {
     "data": {
      "text/plain": [
       "0.012029802954365574"
      ]
     },
     "execution_count": 12,
     "metadata": {},
     "output_type": "execute_result"
    }
   ],
   "source": [
    "n = 200\n",
    "m = 6\n",
    "p = 0.01\n",
    "lambda_ = n * p\n",
    "\n",
    "(lambda_**m / np.math.factorial(m)) * np.exp(-lambda_)"
   ]
  },
  {
   "cell_type": "code",
   "execution_count": 13,
   "id": "6552588e",
   "metadata": {},
   "outputs": [
    {
     "data": {
      "text/plain": [
       "0.0034370865583901638"
      ]
     },
     "execution_count": 13,
     "metadata": {},
     "output_type": "execute_result"
    }
   ],
   "source": [
    "n = 200\n",
    "m = 7\n",
    "p = 0.01\n",
    "lambda_ = n * p\n",
    "\n",
    "(lambda_**m / np.math.factorial(m)) * np.exp(-lambda_)"
   ]
  },
  {
   "cell_type": "code",
   "execution_count": 14,
   "id": "4b7599bd",
   "metadata": {},
   "outputs": [
    {
     "data": {
      "text/plain": [
       "0.0008592716395975409"
      ]
     },
     "execution_count": 14,
     "metadata": {},
     "output_type": "execute_result"
    }
   ],
   "source": [
    "n = 200\n",
    "m = 8\n",
    "p = 0.01\n",
    "lambda_ = n * p\n",
    "\n",
    "(lambda_**m / np.math.factorial(m)) * np.exp(-lambda_)"
   ]
  },
  {
   "cell_type": "code",
   "execution_count": 15,
   "id": "3f867a0d",
   "metadata": {},
   "outputs": [
    {
     "data": {
      "text/plain": [
       "0.000190949253243898"
      ]
     },
     "execution_count": 15,
     "metadata": {},
     "output_type": "execute_result"
    }
   ],
   "source": [
    "n = 200\n",
    "m = 9\n",
    "p = 0.01\n",
    "lambda_ = n * p\n",
    "\n",
    "(lambda_**m / np.math.factorial(m)) * np.exp(-lambda_)"
   ]
  },
  {
   "cell_type": "code",
   "execution_count": 28,
   "id": "dd15bef0",
   "metadata": {},
   "outputs": [
    {
     "data": {
      "text/plain": [
       "0.052606519268693905"
      ]
     },
     "execution_count": 28,
     "metadata": {},
     "output_type": "execute_result"
    }
   ],
   "source": [
    "0.03608940886309672 + 0.012029802954365574 + 0.0034370865583901638 + 0.0008592716395975409 + 0.000190949253243898"
   ]
  },
  {
   "cell_type": "code",
   "execution_count": null,
   "id": "0c655375",
   "metadata": {},
   "outputs": [],
   "source": []
  },
  {
   "cell_type": "code",
   "execution_count": null,
   "id": "14281ac5",
   "metadata": {},
   "outputs": [],
   "source": []
  }
 ],
 "metadata": {
  "kernelspec": {
   "display_name": "Python 3",
   "language": "python",
   "name": "python3"
  },
  "language_info": {
   "codemirror_mode": {
    "name": "ipython",
    "version": 3
   },
   "file_extension": ".py",
   "mimetype": "text/x-python",
   "name": "python",
   "nbconvert_exporter": "python",
   "pygments_lexer": "ipython3",
   "version": "3.8.8"
  }
 },
 "nbformat": 4,
 "nbformat_minor": 5
}
