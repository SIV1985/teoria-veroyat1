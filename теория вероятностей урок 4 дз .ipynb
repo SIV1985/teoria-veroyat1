{
 "cells": [
  {
   "cell_type": "code",
   "execution_count": null,
   "id": "801ce487",
   "metadata": {},
   "outputs": [],
   "source": [
    "#задача 1"
   ]
  },
  {
   "cell_type": "code",
   "execution_count": 12,
   "id": "370ccbe0",
   "metadata": {},
   "outputs": [],
   "source": [
    "import numpy as np"
   ]
  },
  {
   "cell_type": "code",
   "execution_count": 13,
   "id": "f79503b3",
   "metadata": {},
   "outputs": [
    {
     "name": "stdout",
     "output_type": "stream",
     "text": [
      "Правая граница равна 2.049193338482967\n"
     ]
    }
   ],
   "source": [
    "a = 0.5\n",
    "c = np.sqrt(2.4)#т.к мы ищем правую границу, то b может быть только положительной величиной!\n",
    "b = c + a\n",
    "print(f'Правая граница равна {b}')"
   ]
  },
  {
   "cell_type": "code",
   "execution_count": 14,
   "id": "863dfb77",
   "metadata": {},
   "outputs": [
    {
     "data": {
      "text/plain": [
       "1.2745966692414834"
      ]
     },
     "execution_count": 14,
     "metadata": {},
     "output_type": "execute_result"
    }
   ],
   "source": [
    "M = (a +b)/2\n",
    "M"
   ]
  },
  {
   "cell_type": "code",
   "execution_count": null,
   "id": "1718477b",
   "metadata": {},
   "outputs": [],
   "source": []
  }
 ],
 "metadata": {
  "kernelspec": {
   "display_name": "Python 3",
   "language": "python",
   "name": "python3"
  },
  "language_info": {
   "codemirror_mode": {
    "name": "ipython",
    "version": 3
   },
   "file_extension": ".py",
   "mimetype": "text/x-python",
   "name": "python",
   "nbconvert_exporter": "python",
   "pygments_lexer": "ipython3",
   "version": "3.8.8"
  }
 },
 "nbformat": 4,
 "nbformat_minor": 5
}
