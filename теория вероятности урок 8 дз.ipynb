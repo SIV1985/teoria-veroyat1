{
 "cells": [
  {
   "cell_type": "code",
   "execution_count": 35,
   "id": "234d84e8",
   "metadata": {},
   "outputs": [],
   "source": [
    "import numpy as np"
   ]
  },
  {
   "cell_type": "code",
   "execution_count": null,
   "id": "cee6c6af",
   "metadata": {},
   "outputs": [],
   "source": [
    "from scipy import stats"
   ]
  },
  {
   "cell_type": "code",
   "execution_count": 43,
   "id": "238f05ef",
   "metadata": {},
   "outputs": [],
   "source": [
    "#Провести дисперсионный анализ для определения того, есть ли различия среднего роста среди взрослых футболистов, хоккеистов и штангистов. Даны значения роста в трех группах случайно выбранных спортсменов:\n"
   ]
  },
  {
   "cell_type": "code",
   "execution_count": 44,
   "id": "598d50e9",
   "metadata": {},
   "outputs": [],
   "source": [
    "fp = [173, 175, 180, 178, 177, 185, 183, 182]\n",
    "hp = [177, 179, 180, 188, 177, 172, 171, 184, 180]\n",
    "lf = [172, 173, 169, 177, 166, 180, 178, 177, 172, 166, 170]"
   ]
  },
  {
   "cell_type": "code",
   "execution_count": 45,
   "id": "5c72387b",
   "metadata": {},
   "outputs": [],
   "source": [
    "fp = np.array([173, 175, 180, 178, 177, 185, 183, 182], dtype=np.float64)\n",
    "hp = np.array([177, 179, 180, 188, 177, 172, 171, 184, 180], dtype=np.float64)\n",
    "lf = np.array([172, 173, 169, 177, 166, 180, 178, 177, 172, 166, 170], dtype=np.float64)"
   ]
  },
  {
   "cell_type": "code",
   "execution_count": 46,
   "id": "0ab31f55",
   "metadata": {},
   "outputs": [],
   "source": [
    "n1 = fp.shape[0]\n",
    "n2 = hp.shape[0]\n",
    "n3 = lf.shape[0]"
   ]
  },
  {
   "cell_type": "code",
   "execution_count": 47,
   "id": "0f748a79",
   "metadata": {},
   "outputs": [
    {
     "data": {
      "text/plain": [
       "(179.125, 178.66666666666666, 172.72727272727272)"
      ]
     },
     "execution_count": 47,
     "metadata": {},
     "output_type": "execute_result"
    }
   ],
   "source": [
    "fp_mean = fp.mean()\n",
    "hp_mean = hp.mean()\n",
    "lf_mean = lf.mean()\n",
    "\n",
    "fp_mean, hp_mean, lf_mean"
   ]
  },
  {
   "cell_type": "code",
   "execution_count": null,
   "id": "97fbe5c1",
   "metadata": {},
   "outputs": [],
   "source": [
    "#Проверим статистическую значимость всех отличий."
   ]
  },
  {
   "cell_type": "code",
   "execution_count": 48,
   "id": "f661afcc",
   "metadata": {},
   "outputs": [
    {
     "name": "stdout",
     "output_type": "stream",
     "text": [
      "[173. 175. 180. 178. 177. 185. 183. 182. 177. 179. 180. 188. 177. 172.\n",
      " 171. 184. 180. 172. 173. 169. 177. 166. 180. 178. 177. 172. 166. 170.]\n"
     ]
    }
   ],
   "source": [
    "y = np.concatenate([fp, hp, lf])\n",
    "print(y)"
   ]
  },
  {
   "cell_type": "code",
   "execution_count": 49,
   "id": "33ba7ae5",
   "metadata": {},
   "outputs": [
    {
     "data": {
      "text/plain": [
       "176.46428571428572"
      ]
     },
     "execution_count": 49,
     "metadata": {},
     "output_type": "execute_result"
    }
   ],
   "source": [
    "y_mean = y.mean()\n",
    "y_mean"
   ]
  },
  {
   "cell_type": "code",
   "execution_count": null,
   "id": "ae573b4e",
   "metadata": {},
   "outputs": [],
   "source": [
    "#найдемS(F) и #S(res)"
   ]
  },
  {
   "cell_type": "code",
   "execution_count": 50,
   "id": "a3ff2ea7",
   "metadata": {},
   "outputs": [
    {
     "data": {
      "text/plain": [
       "(253.9074675324678, 577.0568181818182)"
      ]
     },
     "execution_count": 50,
     "metadata": {},
     "output_type": "execute_result"
    }
   ],
   "source": [
    "S2_F = n1 * (fp_mean - y_mean) ** 2 + n2 * (hp_mean - y_mean) ** 2 + n3 * (lf_mean - y_mean) ** 2\n",
    "S2_res = ((fp - fp_mean) ** 2).sum() + ((hp - hp_mean) ** 2).sum() + ((lf - lf_mean) ** 2).sum()\n",
    "S2_F, S2_res"
   ]
  },
  {
   "cell_type": "code",
   "execution_count": null,
   "id": "30e69651",
   "metadata": {},
   "outputs": [],
   "source": [
    "#Проверим выполнение равенства S2 = S2_F + S2_res "
   ]
  },
  {
   "cell_type": "code",
   "execution_count": 51,
   "id": "7ef361ba",
   "metadata": {},
   "outputs": [
    {
     "data": {
      "text/plain": [
       "830.964285714286"
      ]
     },
     "execution_count": 51,
     "metadata": {},
     "output_type": "execute_result"
    }
   ],
   "source": [
    "S2_F + S2_res"
   ]
  },
  {
   "cell_type": "code",
   "execution_count": 52,
   "id": "197c4e5d",
   "metadata": {},
   "outputs": [
    {
     "data": {
      "text/plain": [
       "830.9642857142854"
      ]
     },
     "execution_count": 52,
     "metadata": {},
     "output_type": "execute_result"
    }
   ],
   "source": [
    "((y - y_mean) ** 2).sum()"
   ]
  },
  {
   "cell_type": "code",
   "execution_count": null,
   "id": "2042b3e6",
   "metadata": {},
   "outputs": [],
   "source": [
    "#Запишем оценки дисперсий:"
   ]
  },
  {
   "cell_type": "code",
   "execution_count": 53,
   "id": "21b97d89",
   "metadata": {},
   "outputs": [
    {
     "data": {
      "text/plain": [
       "(126.9537337662339, 23.08227272727273)"
      ]
     },
     "execution_count": 53,
     "metadata": {},
     "output_type": "execute_result"
    }
   ],
   "source": [
    "k = 3\n",
    "n = n1 + n2 + n3\n",
    "\n",
    "k1 = k - 1\n",
    "k2 = n - k\n",
    "\n",
    "sigma2_F = S2_F / k1\n",
    "sigma2_res = S2_res / k2\n",
    "\n",
    "sigma2_F, sigma2_res"
   ]
  },
  {
   "cell_type": "code",
   "execution_count": null,
   "id": "62f1f336",
   "metadata": {},
   "outputs": [],
   "source": [
    "#Итак, значение статистики T:"
   ]
  },
  {
   "cell_type": "code",
   "execution_count": 54,
   "id": "e131f825",
   "metadata": {},
   "outputs": [
    {
     "data": {
      "text/plain": [
       "5.500053450812598"
      ]
     },
     "execution_count": 54,
     "metadata": {},
     "output_type": "execute_result"
    }
   ],
   "source": [
    "T = sigma2_F / sigma2_res\n",
    "T"
   ]
  },
  {
   "cell_type": "code",
   "execution_count": null,
   "id": "d5439c43",
   "metadata": {},
   "outputs": [],
   "source": [
    "#Зафиксируем уровень значимости альфа = 0,05. Для него найдём критическое значение F критическое:"
   ]
  },
  {
   "cell_type": "code",
   "execution_count": null,
   "id": "b9b35669",
   "metadata": {},
   "outputs": [],
   "source": [
    "from scipy.stats import alpha"
   ]
  },
  {
   "cell_type": "code",
   "execution_count": 64,
   "id": "f3d6d417",
   "metadata": {},
   "outputs": [
    {
     "ename": "NameError",
     "evalue": "name 'stats' is not defined",
     "output_type": "error",
     "traceback": [
      "\u001b[1;31m---------------------------------------------------------------------------\u001b[0m",
      "\u001b[1;31mNameError\u001b[0m                                 Traceback (most recent call last)",
      "\u001b[1;32m<ipython-input-64-237a7d4e076b>\u001b[0m in \u001b[0;36m<module>\u001b[1;34m\u001b[0m\n\u001b[0;32m      1\u001b[0m \u001b[0malpha\u001b[0m \u001b[1;33m=\u001b[0m \u001b[1;36m0.05\u001b[0m\u001b[1;33m\u001b[0m\u001b[1;33m\u001b[0m\u001b[0m\n\u001b[0;32m      2\u001b[0m \u001b[1;33m\u001b[0m\u001b[0m\n\u001b[1;32m----> 3\u001b[1;33m \u001b[0mF_crit\u001b[0m \u001b[1;33m=\u001b[0m \u001b[0mstats\u001b[0m\u001b[1;33m.\u001b[0m\u001b[0mf\u001b[0m\u001b[1;33m.\u001b[0m\u001b[0mppf\u001b[0m\u001b[1;33m(\u001b[0m\u001b[1;36m1\u001b[0m \u001b[1;33m-\u001b[0m \u001b[0malpha\u001b[0m\u001b[1;33m,\u001b[0m \u001b[0mk1\u001b[0m\u001b[1;33m,\u001b[0m \u001b[0mk2\u001b[0m\u001b[1;33m)\u001b[0m\u001b[1;33m\u001b[0m\u001b[1;33m\u001b[0m\u001b[0m\n\u001b[0m\u001b[0;32m      4\u001b[0m \u001b[0mF_crit\u001b[0m\u001b[1;33m\u001b[0m\u001b[1;33m\u001b[0m\u001b[0m\n",
      "\u001b[1;31mNameError\u001b[0m: name 'stats' is not defined"
     ]
    }
   ],
   "source": [
    "alpha = 0.05\n",
    "\n",
    "F_crit = stats.f.ppf(1 - alpha, k1, k2)\n",
    "F_crit"
   ]
  },
  {
   "cell_type": "code",
   "execution_count": null,
   "id": "15148999",
   "metadata": {},
   "outputs": [],
   "source": [
    "#посчитала в калькуляторе: 3.3851899614491687 , Т > альфа"
   ]
  }
 ],
 "metadata": {
  "kernelspec": {
   "display_name": "Python 3",
   "language": "python",
   "name": "python3"
  },
  "language_info": {
   "codemirror_mode": {
    "name": "ipython",
    "version": 3
   },
   "file_extension": ".py",
   "mimetype": "text/x-python",
   "name": "python",
   "nbconvert_exporter": "python",
   "pygments_lexer": "ipython3",
   "version": "3.8.8"
  }
 },
 "nbformat": 4,
 "nbformat_minor": 5
}
